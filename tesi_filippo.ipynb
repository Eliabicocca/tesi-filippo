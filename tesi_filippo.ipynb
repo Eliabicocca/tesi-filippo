{
 "cells": [
  {
   "cell_type": "code",
   "execution_count": 2,
   "metadata": {
    "scrolled": true
   },
   "outputs": [
    {
     "data": {
      "text/html": [
       "<div>\n",
       "<style scoped>\n",
       "    .dataframe tbody tr th:only-of-type {\n",
       "        vertical-align: middle;\n",
       "    }\n",
       "\n",
       "    .dataframe tbody tr th {\n",
       "        vertical-align: top;\n",
       "    }\n",
       "\n",
       "    .dataframe thead th {\n",
       "        text-align: right;\n",
       "    }\n",
       "</style>\n",
       "<table border=\"1\" class=\"dataframe\">\n",
       "  <thead>\n",
       "    <tr style=\"text-align: right;\">\n",
       "      <th></th>\n",
       "      <th>cod</th>\n",
       "      <th>nome</th>\n",
       "      <th>cognome</th>\n",
       "      <th>age</th>\n",
       "      <th>studM</th>\n",
       "      <th>profM</th>\n",
       "      <th>studP</th>\n",
       "      <th>profP</th>\n",
       "      <th>steril</th>\n",
       "      <th>sterilTer</th>\n",
       "      <th>...</th>\n",
       "      <th>F3Beck</th>\n",
       "      <th>F3intrus</th>\n",
       "      <th>F3arous</th>\n",
       "      <th>F3avoid</th>\n",
       "      <th>F3PTSD</th>\n",
       "      <th>F3PTSDpart</th>\n",
       "      <th>F3intrus.1</th>\n",
       "      <th>F3avoid.1</th>\n",
       "      <th>F3arous.1</th>\n",
       "      <th>F3Tptsd</th>\n",
       "    </tr>\n",
       "  </thead>\n",
       "  <tbody>\n",
       "    <tr>\n",
       "      <th>0</th>\n",
       "      <td>10</td>\n",
       "      <td>laura</td>\n",
       "      <td>bellingeri</td>\n",
       "      <td>38</td>\n",
       "      <td>4.0</td>\n",
       "      <td>2.0</td>\n",
       "      <td>3.0</td>\n",
       "      <td>3.0</td>\n",
       "      <td>0.0</td>\n",
       "      <td>0.0</td>\n",
       "      <td>...</td>\n",
       "      <td>NaN</td>\n",
       "      <td>NaN</td>\n",
       "      <td>NaN</td>\n",
       "      <td>NaN</td>\n",
       "      <td>NaN</td>\n",
       "      <td>NaN</td>\n",
       "      <td>NaN</td>\n",
       "      <td>NaN</td>\n",
       "      <td>NaN</td>\n",
       "      <td>NaN</td>\n",
       "    </tr>\n",
       "    <tr>\n",
       "      <th>1</th>\n",
       "      <td>12</td>\n",
       "      <td>francesca</td>\n",
       "      <td>era</td>\n",
       "      <td>41</td>\n",
       "      <td>3.0</td>\n",
       "      <td>2.0</td>\n",
       "      <td>NaN</td>\n",
       "      <td>3.0</td>\n",
       "      <td>1.0</td>\n",
       "      <td>0.0</td>\n",
       "      <td>...</td>\n",
       "      <td>NaN</td>\n",
       "      <td>NaN</td>\n",
       "      <td>NaN</td>\n",
       "      <td>NaN</td>\n",
       "      <td>NaN</td>\n",
       "      <td>NaN</td>\n",
       "      <td>NaN</td>\n",
       "      <td>NaN</td>\n",
       "      <td>NaN</td>\n",
       "      <td>NaN</td>\n",
       "    </tr>\n",
       "    <tr>\n",
       "      <th>2</th>\n",
       "      <td>39</td>\n",
       "      <td>elena</td>\n",
       "      <td>sala</td>\n",
       "      <td>26</td>\n",
       "      <td>2.0</td>\n",
       "      <td>2.0</td>\n",
       "      <td>2.0</td>\n",
       "      <td>1.0</td>\n",
       "      <td>0.0</td>\n",
       "      <td>0.0</td>\n",
       "      <td>...</td>\n",
       "      <td>NaN</td>\n",
       "      <td>NaN</td>\n",
       "      <td>NaN</td>\n",
       "      <td>NaN</td>\n",
       "      <td>NaN</td>\n",
       "      <td>NaN</td>\n",
       "      <td>NaN</td>\n",
       "      <td>NaN</td>\n",
       "      <td>NaN</td>\n",
       "      <td>NaN</td>\n",
       "    </tr>\n",
       "    <tr>\n",
       "      <th>3</th>\n",
       "      <td>76</td>\n",
       "      <td>silvia</td>\n",
       "      <td>dalla valle</td>\n",
       "      <td>34</td>\n",
       "      <td>4.0</td>\n",
       "      <td>3.0</td>\n",
       "      <td>4.0</td>\n",
       "      <td>3.0</td>\n",
       "      <td>0.0</td>\n",
       "      <td>0.0</td>\n",
       "      <td>...</td>\n",
       "      <td>NaN</td>\n",
       "      <td>NaN</td>\n",
       "      <td>NaN</td>\n",
       "      <td>NaN</td>\n",
       "      <td>NaN</td>\n",
       "      <td>NaN</td>\n",
       "      <td>NaN</td>\n",
       "      <td>NaN</td>\n",
       "      <td>NaN</td>\n",
       "      <td>NaN</td>\n",
       "    </tr>\n",
       "    <tr>\n",
       "      <th>4</th>\n",
       "      <td>84</td>\n",
       "      <td>camilla</td>\n",
       "      <td>ricciardi</td>\n",
       "      <td>34</td>\n",
       "      <td>4.0</td>\n",
       "      <td>3.0</td>\n",
       "      <td>4.0</td>\n",
       "      <td>NaN</td>\n",
       "      <td>0.0</td>\n",
       "      <td>0.0</td>\n",
       "      <td>...</td>\n",
       "      <td>NaN</td>\n",
       "      <td>NaN</td>\n",
       "      <td>NaN</td>\n",
       "      <td>NaN</td>\n",
       "      <td>NaN</td>\n",
       "      <td>NaN</td>\n",
       "      <td>NaN</td>\n",
       "      <td>NaN</td>\n",
       "      <td>NaN</td>\n",
       "      <td>NaN</td>\n",
       "    </tr>\n",
       "    <tr>\n",
       "      <th>5</th>\n",
       "      <td>86</td>\n",
       "      <td>Stefania</td>\n",
       "      <td>Honegger</td>\n",
       "      <td>39</td>\n",
       "      <td>3.0</td>\n",
       "      <td>3.0</td>\n",
       "      <td>4.0</td>\n",
       "      <td>NaN</td>\n",
       "      <td>0.0</td>\n",
       "      <td>0.0</td>\n",
       "      <td>...</td>\n",
       "      <td>NaN</td>\n",
       "      <td>NaN</td>\n",
       "      <td>NaN</td>\n",
       "      <td>NaN</td>\n",
       "      <td>NaN</td>\n",
       "      <td>NaN</td>\n",
       "      <td>NaN</td>\n",
       "      <td>NaN</td>\n",
       "      <td>NaN</td>\n",
       "      <td>NaN</td>\n",
       "    </tr>\n",
       "    <tr>\n",
       "      <th>6</th>\n",
       "      <td>106</td>\n",
       "      <td>francesca</td>\n",
       "      <td>busio</td>\n",
       "      <td>30</td>\n",
       "      <td>4.0</td>\n",
       "      <td>3.0</td>\n",
       "      <td>NaN</td>\n",
       "      <td>3.0</td>\n",
       "      <td>0.0</td>\n",
       "      <td>0.0</td>\n",
       "      <td>...</td>\n",
       "      <td>NaN</td>\n",
       "      <td>NaN</td>\n",
       "      <td>NaN</td>\n",
       "      <td>NaN</td>\n",
       "      <td>NaN</td>\n",
       "      <td>NaN</td>\n",
       "      <td>NaN</td>\n",
       "      <td>NaN</td>\n",
       "      <td>NaN</td>\n",
       "      <td>NaN</td>\n",
       "    </tr>\n",
       "    <tr>\n",
       "      <th>7</th>\n",
       "      <td>117</td>\n",
       "      <td>elena</td>\n",
       "      <td>ventura</td>\n",
       "      <td>34</td>\n",
       "      <td>3.0</td>\n",
       "      <td>3.0</td>\n",
       "      <td>3.0</td>\n",
       "      <td>2.0</td>\n",
       "      <td>0.0</td>\n",
       "      <td>0.0</td>\n",
       "      <td>...</td>\n",
       "      <td>NaN</td>\n",
       "      <td>NaN</td>\n",
       "      <td>NaN</td>\n",
       "      <td>NaN</td>\n",
       "      <td>NaN</td>\n",
       "      <td>NaN</td>\n",
       "      <td>NaN</td>\n",
       "      <td>NaN</td>\n",
       "      <td>NaN</td>\n",
       "      <td>NaN</td>\n",
       "    </tr>\n",
       "    <tr>\n",
       "      <th>8</th>\n",
       "      <td>126</td>\n",
       "      <td>assunta</td>\n",
       "      <td>giammarino</td>\n",
       "      <td>28</td>\n",
       "      <td>3.0</td>\n",
       "      <td>2.0</td>\n",
       "      <td>3.0</td>\n",
       "      <td>2.0</td>\n",
       "      <td>0.0</td>\n",
       "      <td>0.0</td>\n",
       "      <td>...</td>\n",
       "      <td>NaN</td>\n",
       "      <td>NaN</td>\n",
       "      <td>NaN</td>\n",
       "      <td>NaN</td>\n",
       "      <td>NaN</td>\n",
       "      <td>NaN</td>\n",
       "      <td>NaN</td>\n",
       "      <td>NaN</td>\n",
       "      <td>NaN</td>\n",
       "      <td>NaN</td>\n",
       "    </tr>\n",
       "    <tr>\n",
       "      <th>9</th>\n",
       "      <td>127</td>\n",
       "      <td>anna maria</td>\n",
       "      <td>atzori</td>\n",
       "      <td>33</td>\n",
       "      <td>4.0</td>\n",
       "      <td>3.0</td>\n",
       "      <td>NaN</td>\n",
       "      <td>3.0</td>\n",
       "      <td>0.0</td>\n",
       "      <td>1.0</td>\n",
       "      <td>...</td>\n",
       "      <td>NaN</td>\n",
       "      <td>NaN</td>\n",
       "      <td>NaN</td>\n",
       "      <td>NaN</td>\n",
       "      <td>NaN</td>\n",
       "      <td>NaN</td>\n",
       "      <td>NaN</td>\n",
       "      <td>NaN</td>\n",
       "      <td>NaN</td>\n",
       "      <td>NaN</td>\n",
       "    </tr>\n",
       "  </tbody>\n",
       "</table>\n",
       "<p>10 rows × 244 columns</p>\n",
       "</div>"
      ],
      "text/plain": [
       "   cod        nome      cognome  age  studM  profM  studP  profP  steril  \\\n",
       "0   10       laura   bellingeri   38    4.0    2.0    3.0    3.0     0.0   \n",
       "1   12   francesca          era   41    3.0    2.0    NaN    3.0     1.0   \n",
       "2   39       elena         sala   26    2.0    2.0    2.0    1.0     0.0   \n",
       "3   76      silvia  dalla valle   34    4.0    3.0    4.0    3.0     0.0   \n",
       "4   84     camilla    ricciardi   34    4.0    3.0    4.0    NaN     0.0   \n",
       "5   86    Stefania     Honegger   39    3.0    3.0    4.0    NaN     0.0   \n",
       "6  106   francesca        busio   30    4.0    3.0    NaN    3.0     0.0   \n",
       "7  117       elena      ventura   34    3.0    3.0    3.0    2.0     0.0   \n",
       "8  126     assunta   giammarino   28    3.0    2.0    3.0    2.0     0.0   \n",
       "9  127  anna maria       atzori   33    4.0    3.0    NaN    3.0     0.0   \n",
       "\n",
       "   sterilTer   ...     F3Beck  F3intrus  F3arous  F3avoid  F3PTSD  F3PTSDpart  \\\n",
       "0        0.0   ...        NaN       NaN      NaN      NaN     NaN         NaN   \n",
       "1        0.0   ...        NaN       NaN      NaN      NaN     NaN         NaN   \n",
       "2        0.0   ...        NaN       NaN      NaN      NaN     NaN         NaN   \n",
       "3        0.0   ...        NaN       NaN      NaN      NaN     NaN         NaN   \n",
       "4        0.0   ...        NaN       NaN      NaN      NaN     NaN         NaN   \n",
       "5        0.0   ...        NaN       NaN      NaN      NaN     NaN         NaN   \n",
       "6        0.0   ...        NaN       NaN      NaN      NaN     NaN         NaN   \n",
       "7        0.0   ...        NaN       NaN      NaN      NaN     NaN         NaN   \n",
       "8        0.0   ...        NaN       NaN      NaN      NaN     NaN         NaN   \n",
       "9        1.0   ...        NaN       NaN      NaN      NaN     NaN         NaN   \n",
       "\n",
       "   F3intrus.1  F3avoid.1  F3arous.1  F3Tptsd  \n",
       "0         NaN        NaN        NaN      NaN  \n",
       "1         NaN        NaN        NaN      NaN  \n",
       "2         NaN        NaN        NaN      NaN  \n",
       "3         NaN        NaN        NaN      NaN  \n",
       "4         NaN        NaN        NaN      NaN  \n",
       "5         NaN        NaN        NaN      NaN  \n",
       "6         NaN        NaN        NaN      NaN  \n",
       "7         NaN        NaN        NaN      NaN  \n",
       "8         NaN        NaN        NaN      NaN  \n",
       "9         NaN        NaN        NaN      NaN  \n",
       "\n",
       "[10 rows x 244 columns]"
      ]
     },
     "execution_count": 2,
     "metadata": {},
     "output_type": "execute_result"
    }
   ],
   "source": [
    "# apro il dataset 'definitivo.csv'\n",
    "\n",
    "import pandas as pd\n",
    "data=pd.read_csv('./definitivo.csv', sep=';')\n",
    "data.head(10)"
   ]
  },
  {
   "cell_type": "markdown",
   "metadata": {},
   "source": [
    "Proporzione depresse in F2 (con valore F2Beck>10)"
   ]
  },
  {
   "cell_type": "code",
   "execution_count": 51,
   "metadata": {},
   "outputs": [
    {
     "data": {
      "text/plain": [
       "0.07514450867052024"
      ]
     },
     "execution_count": 51,
     "metadata": {},
     "output_type": "execute_result"
    }
   ],
   "source": [
    "d=data.groupby('F2Beck').size(); \n",
    "d2=data['F2Beck']; # 351 osservazioni\n",
    "len(d2.dropna())  # 346 osservazioni se levo gli NaN\n",
    "sum(d[11:]) # 26 depresse in F2Beck\n",
    "sum(d[11:])/len(d2.dropna()) # 0.075 è la proporzione di depresse in F2 (F2Beck > 10)"
   ]
  },
  {
   "cell_type": "markdown",
   "metadata": {},
   "source": [
    "Proporzione depresse in F1 (con valore F1Beck>10) e proporzione depresse gravi (con valore F1Beck>30)"
   ]
  },
  {
   "cell_type": "code",
   "execution_count": 61,
   "metadata": {},
   "outputs": [
    {
     "data": {
      "text/plain": [
       "0.16049382716049382"
      ]
     },
     "execution_count": 61,
     "metadata": {},
     "output_type": "execute_result"
    }
   ],
   "source": [
    "d=data.groupby('F1Beck').size(); \n",
    "d2=data['F1Beck']; # 351 osservazioni\n",
    "len(d2.dropna())  # 81 osservazioni se levo gli NaN\n",
    "sum(d[11:]) # 13 depresse in F2Beck\n",
    "sum(d[11:])/len(d2.dropna()) # 0.160 è la proporzione di depresse in F2 (F2Beck > 10)"
   ]
  },
  {
   "cell_type": "code",
   "execution_count": 63,
   "metadata": {},
   "outputs": [
    {
     "data": {
      "text/plain": [
       "0.0"
      ]
     },
     "execution_count": 63,
     "metadata": {},
     "output_type": "execute_result"
    }
   ],
   "source": [
    "sum(d[31:]) # 13 depresse in F2Beck\n",
    "sum(d[31:])/len(d2.dropna()) # nessuna depressione grave (con F1Beck > 30)"
   ]
  },
  {
   "cell_type": "markdown",
   "metadata": {},
   "source": [
    "Statistiche descrittive per F1Beck e F2Beck:"
   ]
  },
  {
   "cell_type": "code",
   "execution_count": 176,
   "metadata": {},
   "outputs": [
    {
     "data": {
      "text/plain": [
       "20.33795372785705"
      ]
     },
     "execution_count": 176,
     "metadata": {},
     "output_type": "execute_result"
    }
   ],
   "source": [
    "data['F2STAIS'].mean()    # 45.204 è la media per stais\n",
    "data['F2STAIS'].var()     # 25.812 è la varianza per stais\n",
    "data['F2STAIT'].mean()    # 45.034 è la media per stait\n",
    "data['F2STAIT'].var()     # 20.338 è la varianza per stait"
   ]
  },
  {
   "cell_type": "markdown",
   "metadata": {},
   "source": [
    "Quante presentano ansia di stato (F2STAIS>49) e quante ansia di tratto (F2STAIT>46)"
   ]
  },
  {
   "cell_type": "code",
   "execution_count": 78,
   "metadata": {},
   "outputs": [
    {
     "data": {
      "text/plain": [
       "0.15451895043731778"
      ]
     },
     "execution_count": 78,
     "metadata": {},
     "output_type": "execute_result"
    }
   ],
   "source": [
    "d=data.groupby('F2STAIS').size(); \n",
    "sum(d[50:]) # 53 presentano valori di ansia di stato superiori a 49\n",
    "d2=data['F2STAIS']; \n",
    "len(d2.dropna())   # se levo i missing, rimangono 343 osservazioni\n",
    "sum(d[50:])/len(d2.dropna())   # 0.155 è la proporzione di quante presentano ansia di stato"
   ]
  },
  {
   "cell_type": "code",
   "execution_count": 84,
   "metadata": {},
   "outputs": [
    {
     "data": {
      "text/plain": [
       "0.3556851311953353"
      ]
     },
     "execution_count": 84,
     "metadata": {},
     "output_type": "execute_result"
    }
   ],
   "source": [
    "d=data.groupby('F2STAIT').size(); \n",
    "sum(d[47:]) # 122 presentano valori di ansia di tratto superiori a 46\n",
    "d2=data['F2STAIT']; \n",
    "len(d2.dropna())   # se levo i missing, rimangono 343 osservazioni\n",
    "sum(d[47:])/len(d2.dropna())   # 0.356 è la proporzione di quante presentano ansia di stato"
   ]
  },
  {
   "cell_type": "markdown",
   "metadata": {},
   "source": [
    "Statistiche descrittive per F2STAIS e F2STAIT:"
   ]
  },
  {
   "cell_type": "code",
   "execution_count": 93,
   "metadata": {},
   "outputs": [
    {
     "data": {
      "text/plain": [
       "20.33795372785705"
      ]
     },
     "execution_count": 93,
     "metadata": {},
     "output_type": "execute_result"
    }
   ],
   "source": [
    "data['F2STAIS'].mean()    # 45.204 è la media per stais\n",
    "data['F2STAIS'].var()     # 25.812 è la varianza per stais\n",
    "data['F2STAIT'].mean()    # 45.034 è la media per stait\n",
    "data['F2STAIT'].var()     # 20.338 è la varianza per stait"
   ]
  },
  {
   "cell_type": "markdown",
   "metadata": {},
   "source": [
    "Quante presentano ptsd completo (f2ptsdcompl) e quante presentano ptsd parziale (f2ptsdpart)"
   ]
  },
  {
   "cell_type": "code",
   "execution_count": 116,
   "metadata": {},
   "outputs": [
    {
     "data": {
      "text/plain": [
       "0.7341040462427746"
      ]
     },
     "execution_count": 116,
     "metadata": {},
     "output_type": "execute_result"
    }
   ],
   "source": [
    "data.groupby('F2PTSDpart').size() # 254 pazienti su un totale di 346\n",
    "len(data[data.F2PTSDpart==1])/346 # la proporzione è di 0.734 per ptsd parziale"
   ]
  },
  {
   "cell_type": "code",
   "execution_count": 114,
   "metadata": {},
   "outputs": [
    {
     "data": {
      "text/plain": [
       "0.06686046511627906"
      ]
     },
     "execution_count": 114,
     "metadata": {},
     "output_type": "execute_result"
    }
   ],
   "source": [
    "data.groupby('F2PTSDcomp').size() # 23 pazienti su un totale di 344\n",
    "len(data[data.F2PTSDcomp==1])/344 # la proporzione è di 0.067 per ptsd completo"
   ]
  },
  {
   "cell_type": "markdown",
   "metadata": {},
   "source": [
    "Calcolo frequenze assolute e percentuali di quante hanno sintomi di tipo avoid, intrusion e arousal (1 o più sintomi per avoid, 3 o più sintomi per intrusion e 2 o più sintomi per arousal). Con la vecchia scala:"
   ]
  },
  {
   "cell_type": "code",
   "execution_count": 164,
   "metadata": {},
   "outputs": [
    {
     "data": {
      "text/plain": [
       "0.4942528735632184"
      ]
     },
     "execution_count": 164,
     "metadata": {},
     "output_type": "execute_result"
    }
   ],
   "source": [
    "data2=data[['F2avoid','F2intrusion','F2arousal']]\n",
    "data2_a=data2['F2avoid'].dropna(); len(data2_a) # 348 osservazioni se escludo i missing\n",
    "len(data2[data2.F2avoid!=0])  # 172 osservazioni presentano diverso pari a zero\n",
    "prop_a=172/348; prop_a   # 0.494 è la frequenza relativa (49,425%) di f2 arousal "
   ]
  },
  {
   "cell_type": "code",
   "execution_count": 165,
   "metadata": {},
   "outputs": [
    {
     "data": {
      "text/plain": [
       "0.3103448275862069"
      ]
     },
     "execution_count": 165,
     "metadata": {},
     "output_type": "execute_result"
    }
   ],
   "source": [
    "data2_b=data2['F2intrusion'].dropna(); len(data2_b) # 348 osservazioni se escludo i missing\n",
    "len(data2[data2.F2intrusion>2])  # 108 osservazioni presentano diverso pari a zero\n",
    "prop_b=108/348; prop_b   # 0.310 è la frequenza relativa (31,034%) di f2 intrusion "
   ]
  },
  {
   "cell_type": "code",
   "execution_count": 289,
   "metadata": {},
   "outputs": [
    {
     "data": {
      "text/plain": [
       "0.1839080459770115"
      ]
     },
     "execution_count": 289,
     "metadata": {},
     "output_type": "execute_result"
    }
   ],
   "source": [
    "data2_c=data2['F2arousal'].dropna(); len(data2_c) # 348 osservazioni se escludo i missing\n",
    "len(data2[data2.F2arousal>1])  # 64 osservazioni presentano diverso pari a zero\n",
    "prop_c=64/348; prop_c   # 0.184 è la frequenza relativa (46,839%) di f2 intrusion "
   ]
  },
  {
   "cell_type": "markdown",
   "metadata": {},
   "source": [
    "Con la nuova scala (avoid la proporzione rimane la stessa):"
   ]
  },
  {
   "cell_type": "code",
   "execution_count": 290,
   "metadata": {},
   "outputs": [
    {
     "data": {
      "text/plain": [
       "0.7212643678160919"
      ]
     },
     "execution_count": 290,
     "metadata": {},
     "output_type": "execute_result"
    }
   ],
   "source": [
    "len(data2[data2.F2intrusion>0])  # 251 osservazioni presentano diverso pari a zero\n",
    "prop_b2=251/348; prop_b2   # 0.721 è la frequenza relativa (31,034%) di f2 intrusion "
   ]
  },
  {
   "cell_type": "code",
   "execution_count": 293,
   "metadata": {},
   "outputs": [
    {
     "data": {
      "text/plain": [
       "0.42528735632183906"
      ]
     },
     "execution_count": 293,
     "metadata": {},
     "output_type": "execute_result"
    }
   ],
   "source": [
    "len(data2[data2.F2arousal>0])  # 148 osservazioni presentano diverso pari a zero\n",
    "prop_c2=148/348; prop_c2   # 0.425 è la frequenza relativa (46,839%) di f2 arousal"
   ]
  },
  {
   "cell_type": "markdown",
   "metadata": {},
   "source": [
    "Correlazione tra F2Beck e avoid, intrusion e arousal"
   ]
  },
  {
   "cell_type": "code",
   "execution_count": 175,
   "metadata": {},
   "outputs": [
    {
     "name": "stderr",
     "output_type": "stream",
     "text": [
      "/anaconda3/lib/python3.7/site-packages/ipykernel_launcher.py:1: SettingWithCopyWarning: \n",
      "A value is trying to be set on a copy of a slice from a DataFrame.\n",
      "Try using .loc[row_indexer,col_indexer] = value instead\n",
      "\n",
      "See the caveats in the documentation: http://pandas.pydata.org/pandas-docs/stable/indexing.html#indexing-view-versus-copy\n",
      "  \"\"\"Entry point for launching an IPython kernel.\n"
     ]
    },
    {
     "data": {
      "text/plain": [
       "F2avoid        0.265713\n",
       "F2intrusion    0.242470\n",
       "F2arousal      0.327280\n",
       "F2Beck         1.000000\n",
       "Name: F2Beck, dtype: float64"
      ]
     },
     "execution_count": 175,
     "metadata": {},
     "output_type": "execute_result"
    }
   ],
   "source": [
    "data2['F2Beck']=data['F2Beck']; data2\n",
    "d=data2.corr(); d['F2Beck']   # correlazione lineare positiva lieve"
   ]
  },
  {
   "cell_type": "code",
   "execution_count": 186,
   "metadata": {},
   "outputs": [
    {
     "name": "stdout",
     "output_type": "stream",
     "text": [
      "F2avoid        0.240704\n",
      "F2intrusion    0.235113\n",
      "F2arousal      0.260044\n",
      "F2Beck         1.000000\n",
      "Name: F2Beck, dtype: float64\n",
      "F2avoid        0.190864\n",
      "F2intrusion    0.178834\n",
      "F2arousal      0.212895\n",
      "F2Beck         1.000000\n",
      "Name: F2Beck, dtype: float64\n"
     ]
    }
   ],
   "source": [
    "print(data2.corr(method='spearman')['F2Beck'])\n",
    "print(data2.corr(method='kendall')['F2Beck'])  # correlazione più scarsa con gli altri metodi"
   ]
  },
  {
   "cell_type": "markdown",
   "metadata": {},
   "source": [
    "Correlazione tra f2beck con f2ptsdpart e con f2ptsdcomp"
   ]
  },
  {
   "cell_type": "code",
   "execution_count": 174,
   "metadata": {},
   "outputs": [
    {
     "data": {
      "text/html": [
       "<div>\n",
       "<style scoped>\n",
       "    .dataframe tbody tr th:only-of-type {\n",
       "        vertical-align: middle;\n",
       "    }\n",
       "\n",
       "    .dataframe tbody tr th {\n",
       "        vertical-align: top;\n",
       "    }\n",
       "\n",
       "    .dataframe thead th {\n",
       "        text-align: right;\n",
       "    }\n",
       "</style>\n",
       "<table border=\"1\" class=\"dataframe\">\n",
       "  <thead>\n",
       "    <tr style=\"text-align: right;\">\n",
       "      <th></th>\n",
       "      <th>F2Beck</th>\n",
       "      <th>F2PTSDpart</th>\n",
       "      <th>F2PTSDcomp</th>\n",
       "    </tr>\n",
       "  </thead>\n",
       "  <tbody>\n",
       "    <tr>\n",
       "      <th>F2Beck</th>\n",
       "      <td>1.000000</td>\n",
       "      <td>0.168323</td>\n",
       "      <td>0.293375</td>\n",
       "    </tr>\n",
       "    <tr>\n",
       "      <th>F2PTSDpart</th>\n",
       "      <td>0.168323</td>\n",
       "      <td>1.000000</td>\n",
       "      <td>0.133956</td>\n",
       "    </tr>\n",
       "    <tr>\n",
       "      <th>F2PTSDcomp</th>\n",
       "      <td>0.293375</td>\n",
       "      <td>0.133956</td>\n",
       "      <td>1.000000</td>\n",
       "    </tr>\n",
       "  </tbody>\n",
       "</table>\n",
       "</div>"
      ],
      "text/plain": [
       "              F2Beck  F2PTSDpart  F2PTSDcomp\n",
       "F2Beck      1.000000    0.168323    0.293375\n",
       "F2PTSDpart  0.168323    1.000000    0.133956\n",
       "F2PTSDcomp  0.293375    0.133956    1.000000"
      ]
     },
     "execution_count": 174,
     "metadata": {},
     "output_type": "execute_result"
    }
   ],
   "source": [
    "data3=data[['F2Beck','F2PTSDpart','F2PTSDcomp']]\n",
    "data3.corr()    # correlazione lineare positiva tenue"
   ]
  },
  {
   "cell_type": "markdown",
   "metadata": {},
   "source": [
    "I valori scarsi di correlazione possono essere dovuti alla costruzione delle variabili (che sono di tipo categoriali ordinate); proviamo con il metodo di spearman (di default viene utilizzato pearson):"
   ]
  },
  {
   "cell_type": "code",
   "execution_count": 181,
   "metadata": {},
   "outputs": [
    {
     "data": {
      "text/html": [
       "<div>\n",
       "<style scoped>\n",
       "    .dataframe tbody tr th:only-of-type {\n",
       "        vertical-align: middle;\n",
       "    }\n",
       "\n",
       "    .dataframe tbody tr th {\n",
       "        vertical-align: top;\n",
       "    }\n",
       "\n",
       "    .dataframe thead th {\n",
       "        text-align: right;\n",
       "    }\n",
       "</style>\n",
       "<table border=\"1\" class=\"dataframe\">\n",
       "  <thead>\n",
       "    <tr style=\"text-align: right;\">\n",
       "      <th></th>\n",
       "      <th>F2Beck</th>\n",
       "      <th>F2PTSDpart</th>\n",
       "      <th>F2PTSDcomp</th>\n",
       "    </tr>\n",
       "  </thead>\n",
       "  <tbody>\n",
       "    <tr>\n",
       "      <th>F2Beck</th>\n",
       "      <td>1.000000</td>\n",
       "      <td>0.161822</td>\n",
       "      <td>0.234041</td>\n",
       "    </tr>\n",
       "    <tr>\n",
       "      <th>F2PTSDpart</th>\n",
       "      <td>0.161822</td>\n",
       "      <td>1.000000</td>\n",
       "      <td>0.133956</td>\n",
       "    </tr>\n",
       "    <tr>\n",
       "      <th>F2PTSDcomp</th>\n",
       "      <td>0.234041</td>\n",
       "      <td>0.133956</td>\n",
       "      <td>1.000000</td>\n",
       "    </tr>\n",
       "  </tbody>\n",
       "</table>\n",
       "</div>"
      ],
      "text/plain": [
       "              F2Beck  F2PTSDpart  F2PTSDcomp\n",
       "F2Beck      1.000000    0.161822    0.234041\n",
       "F2PTSDpart  0.161822    1.000000    0.133956\n",
       "F2PTSDcomp  0.234041    0.133956    1.000000"
      ]
     },
     "execution_count": 181,
     "metadata": {},
     "output_type": "execute_result"
    }
   ],
   "source": [
    "data3.corr(method='spearman')    # con spearman è più basso"
   ]
  },
  {
   "cell_type": "code",
   "execution_count": 182,
   "metadata": {},
   "outputs": [
    {
     "data": {
      "text/html": [
       "<div>\n",
       "<style scoped>\n",
       "    .dataframe tbody tr th:only-of-type {\n",
       "        vertical-align: middle;\n",
       "    }\n",
       "\n",
       "    .dataframe tbody tr th {\n",
       "        vertical-align: top;\n",
       "    }\n",
       "\n",
       "    .dataframe thead th {\n",
       "        text-align: right;\n",
       "    }\n",
       "</style>\n",
       "<table border=\"1\" class=\"dataframe\">\n",
       "  <thead>\n",
       "    <tr style=\"text-align: right;\">\n",
       "      <th></th>\n",
       "      <th>F2Beck</th>\n",
       "      <th>F2PTSDpart</th>\n",
       "      <th>F2PTSDcomp</th>\n",
       "    </tr>\n",
       "  </thead>\n",
       "  <tbody>\n",
       "    <tr>\n",
       "      <th>F2Beck</th>\n",
       "      <td>1.000000</td>\n",
       "      <td>0.138396</td>\n",
       "      <td>0.200170</td>\n",
       "    </tr>\n",
       "    <tr>\n",
       "      <th>F2PTSDpart</th>\n",
       "      <td>0.138396</td>\n",
       "      <td>1.000000</td>\n",
       "      <td>0.133956</td>\n",
       "    </tr>\n",
       "    <tr>\n",
       "      <th>F2PTSDcomp</th>\n",
       "      <td>0.200170</td>\n",
       "      <td>0.133956</td>\n",
       "      <td>1.000000</td>\n",
       "    </tr>\n",
       "  </tbody>\n",
       "</table>\n",
       "</div>"
      ],
      "text/plain": [
       "              F2Beck  F2PTSDpart  F2PTSDcomp\n",
       "F2Beck      1.000000    0.138396    0.200170\n",
       "F2PTSDpart  0.138396    1.000000    0.133956\n",
       "F2PTSDcomp  0.200170    0.133956    1.000000"
      ]
     },
     "execution_count": 182,
     "metadata": {},
     "output_type": "execute_result"
    }
   ],
   "source": [
    "data3.corr(method='kendall')     # kendall peggio ancora"
   ]
  },
  {
   "cell_type": "markdown",
   "metadata": {},
   "source": [
    "Correlazione tra f2beck con f2stais e con f2stait "
   ]
  },
  {
   "cell_type": "code",
   "execution_count": 189,
   "metadata": {},
   "outputs": [
    {
     "data": {
      "text/plain": [
       "F2Beck     1.000000\n",
       "F2STAIS    0.002306\n",
       "F2STAIT    0.094572\n",
       "Name: F2Beck, dtype: float64"
      ]
     },
     "execution_count": 189,
     "metadata": {},
     "output_type": "execute_result"
    }
   ],
   "source": [
    "data4=data[['F2Beck','F2STAIS','F2STAIT']]\n",
    "data4.corr()['F2Beck']   "
   ]
  },
  {
   "cell_type": "code",
   "execution_count": 190,
   "metadata": {},
   "outputs": [
    {
     "data": {
      "text/plain": [
       "F2Beck     1.000000\n",
       "F2STAIS   -0.060677\n",
       "F2STAIT    0.094288\n",
       "Name: F2Beck, dtype: float64"
      ]
     },
     "execution_count": 190,
     "metadata": {},
     "output_type": "execute_result"
    }
   ],
   "source": [
    "data4.corr(method='spearman')['F2Beck']  "
   ]
  },
  {
   "cell_type": "code",
   "execution_count": 191,
   "metadata": {},
   "outputs": [
    {
     "data": {
      "text/plain": [
       "F2Beck     1.000000\n",
       "F2STAIS   -0.044426\n",
       "F2STAIT    0.068068\n",
       "Name: F2Beck, dtype: float64"
      ]
     },
     "execution_count": 191,
     "metadata": {},
     "output_type": "execute_result"
    }
   ],
   "source": [
    "data4.corr(method='kendall')['F2Beck']  \n",
    "# lieve correlazione negativa per stais, lieve correlazione ma positiva per stait"
   ]
  },
  {
   "cell_type": "markdown",
   "metadata": {},
   "source": [
    "Correlazione con i vari metodi tar ptsd (part) con: studiM, studiF, profM, profP, steril, sterilT "
   ]
  },
  {
   "cell_type": "code",
   "execution_count": 194,
   "metadata": {},
   "outputs": [
    {
     "data": {
      "text/plain": [
       "F2PTSDpart    1.000000\n",
       "studM         0.061986\n",
       "studP        -0.080017\n",
       "profM         0.050552\n",
       "profP        -0.099515\n",
       "steril        0.112852\n",
       "sterilTer    -0.003597\n",
       "Name: F2PTSDpart, dtype: float64"
      ]
     },
     "execution_count": 194,
     "metadata": {},
     "output_type": "execute_result"
    }
   ],
   "source": [
    "# correlazione tra f2ptsdpart e le altre variabili\n",
    "data5=data[['F2PTSDpart','studM','studP','profM','profP','steril','sterilTer']]\n",
    "data5.corr()['F2PTSDpart']"
   ]
  },
  {
   "cell_type": "code",
   "execution_count": 195,
   "metadata": {},
   "outputs": [
    {
     "data": {
      "text/plain": [
       "F2PTSDpart    1.000000\n",
       "studM         0.066965\n",
       "studP        -0.068089\n",
       "profM         0.047280\n",
       "profP        -0.088787\n",
       "steril        0.112852\n",
       "sterilTer    -0.003597\n",
       "Name: F2PTSDpart, dtype: float64"
      ]
     },
     "execution_count": 195,
     "metadata": {},
     "output_type": "execute_result"
    }
   ],
   "source": [
    "data5.corr(method='spearman')['F2PTSDpart'] "
   ]
  },
  {
   "cell_type": "code",
   "execution_count": 196,
   "metadata": {},
   "outputs": [
    {
     "data": {
      "text/plain": [
       "F2PTSDpart    1.000000\n",
       "studM         0.065057\n",
       "studP        -0.065115\n",
       "profM         0.044672\n",
       "profP        -0.083954\n",
       "steril        0.112852\n",
       "sterilTer    -0.003597\n",
       "Name: F2PTSDpart, dtype: float64"
      ]
     },
     "execution_count": 196,
     "metadata": {},
     "output_type": "execute_result"
    }
   ],
   "source": [
    "data5.corr(method='kendall')['F2PTSDpart']  # segni uguali, valori di correlazione lievi"
   ]
  },
  {
   "cell_type": "markdown",
   "metadata": {},
   "source": [
    "Correlazione tar ptsd (comp) con: studiM, studiF, profM, profP, steril, sterilT "
   ]
  },
  {
   "cell_type": "code",
   "execution_count": 197,
   "metadata": {},
   "outputs": [
    {
     "data": {
      "text/plain": [
       "F2PTSDcomp    1.000000\n",
       "studM        -0.008954\n",
       "studP        -0.008549\n",
       "profM         0.025156\n",
       "profP        -0.079560\n",
       "steril       -0.041345\n",
       "sterilTer     0.016215\n",
       "Name: F2PTSDcomp, dtype: float64"
      ]
     },
     "execution_count": 197,
     "metadata": {},
     "output_type": "execute_result"
    }
   ],
   "source": [
    "data6=data[['F2PTSDcomp','studM','studP','profM','profP','steril','sterilTer']]\n",
    "data6.corr()['F2PTSDcomp']"
   ]
  },
  {
   "cell_type": "code",
   "execution_count": 199,
   "metadata": {},
   "outputs": [
    {
     "data": {
      "text/plain": [
       "F2PTSDcomp    1.000000\n",
       "studM        -0.022721\n",
       "studP        -0.009654\n",
       "profM         0.018234\n",
       "profP        -0.079093\n",
       "steril       -0.041345\n",
       "sterilTer     0.016215\n",
       "Name: F2PTSDcomp, dtype: float64"
      ]
     },
     "execution_count": 199,
     "metadata": {},
     "output_type": "execute_result"
    }
   ],
   "source": [
    "data6.corr(method='spearman')['F2PTSDcomp']"
   ]
  },
  {
   "cell_type": "code",
   "execution_count": 200,
   "metadata": {},
   "outputs": [
    {
     "data": {
      "text/plain": [
       "F2PTSDcomp    1.000000\n",
       "studM        -0.022071\n",
       "studP        -0.009231\n",
       "profM         0.017227\n",
       "profP        -0.074843\n",
       "steril       -0.041345\n",
       "sterilTer     0.016215\n",
       "Name: F2PTSDcomp, dtype: float64"
      ]
     },
     "execution_count": 200,
     "metadata": {},
     "output_type": "execute_result"
    }
   ],
   "source": [
    "data6.corr(method='kendall')['F2PTSDcomp']"
   ]
  },
  {
   "cell_type": "markdown",
   "metadata": {},
   "source": [
    "Distribuzioni per le variabili 24h e per tipo di parto, analgesia"
   ]
  },
  {
   "cell_type": "code",
   "execution_count": 203,
   "metadata": {},
   "outputs": [
    {
     "data": {
      "text/html": [
       "<div>\n",
       "<style scoped>\n",
       "    .dataframe tbody tr th:only-of-type {\n",
       "        vertical-align: middle;\n",
       "    }\n",
       "\n",
       "    .dataframe tbody tr th {\n",
       "        vertical-align: top;\n",
       "    }\n",
       "\n",
       "    .dataframe thead th {\n",
       "        text-align: right;\n",
       "    }\n",
       "</style>\n",
       "<table border=\"1\" class=\"dataframe\">\n",
       "  <thead>\n",
       "    <tr style=\"text-align: right;\">\n",
       "      <th></th>\n",
       "      <th>&gt;24h</th>\n",
       "      <th>parto</th>\n",
       "      <th>analgesia</th>\n",
       "    </tr>\n",
       "  </thead>\n",
       "  <tbody>\n",
       "    <tr>\n",
       "      <th>count</th>\n",
       "      <td>350.000000</td>\n",
       "      <td>350.000000</td>\n",
       "      <td>350.000000</td>\n",
       "    </tr>\n",
       "    <tr>\n",
       "      <th>mean</th>\n",
       "      <td>1.254286</td>\n",
       "      <td>1.394286</td>\n",
       "      <td>1.411429</td>\n",
       "    </tr>\n",
       "    <tr>\n",
       "      <th>std</th>\n",
       "      <td>0.536273</td>\n",
       "      <td>0.737044</td>\n",
       "      <td>0.492797</td>\n",
       "    </tr>\n",
       "    <tr>\n",
       "      <th>min</th>\n",
       "      <td>1.000000</td>\n",
       "      <td>1.000000</td>\n",
       "      <td>1.000000</td>\n",
       "    </tr>\n",
       "    <tr>\n",
       "      <th>25%</th>\n",
       "      <td>1.000000</td>\n",
       "      <td>1.000000</td>\n",
       "      <td>1.000000</td>\n",
       "    </tr>\n",
       "    <tr>\n",
       "      <th>50%</th>\n",
       "      <td>1.000000</td>\n",
       "      <td>1.000000</td>\n",
       "      <td>1.000000</td>\n",
       "    </tr>\n",
       "    <tr>\n",
       "      <th>75%</th>\n",
       "      <td>1.000000</td>\n",
       "      <td>1.000000</td>\n",
       "      <td>2.000000</td>\n",
       "    </tr>\n",
       "    <tr>\n",
       "      <th>max</th>\n",
       "      <td>3.000000</td>\n",
       "      <td>3.000000</td>\n",
       "      <td>2.000000</td>\n",
       "    </tr>\n",
       "  </tbody>\n",
       "</table>\n",
       "</div>"
      ],
      "text/plain": [
       "             >24h       parto   analgesia\n",
       "count  350.000000  350.000000  350.000000\n",
       "mean     1.254286    1.394286    1.411429\n",
       "std      0.536273    0.737044    0.492797\n",
       "min      1.000000    1.000000    1.000000\n",
       "25%      1.000000    1.000000    1.000000\n",
       "50%      1.000000    1.000000    1.000000\n",
       "75%      1.000000    1.000000    2.000000\n",
       "max      3.000000    3.000000    2.000000"
      ]
     },
     "execution_count": 203,
     "metadata": {},
     "output_type": "execute_result"
    }
   ],
   "source": [
    "data7=data[['>24h','parto','analgesia']]\n",
    "data7.describe()"
   ]
  },
  {
   "cell_type": "code",
   "execution_count": 622,
   "metadata": {},
   "outputs": [
    {
     "data": {
      "text/plain": [
       ">24h\n",
       "1.0    278\n",
       "2.0     55\n",
       "3.0     17\n",
       "dtype: int64"
      ]
     },
     "execution_count": 622,
     "metadata": {},
     "output_type": "execute_result"
    }
   ],
   "source": [
    "data7.groupby('>24h').size()   # valori assoluti"
   ]
  },
  {
   "cell_type": "code",
   "execution_count": 623,
   "metadata": {},
   "outputs": [
    {
     "data": {
      "text/plain": [
       ">24h\n",
       "1.0    0.792023\n",
       "2.0    0.156695\n",
       "3.0    0.048433\n",
       "dtype: float64"
      ]
     },
     "execution_count": 623,
     "metadata": {},
     "output_type": "execute_result"
    }
   ],
   "source": [
    "data7.groupby('>24h').size()/len(data7['>24h'])  # frequenze relative"
   ]
  },
  {
   "cell_type": "code",
   "execution_count": 624,
   "metadata": {},
   "outputs": [
    {
     "data": {
      "text/plain": [
       ">24h\n",
       "1.0    79.202279\n",
       "2.0    15.669516\n",
       "3.0     4.843305\n",
       "dtype: float64"
      ]
     },
     "execution_count": 624,
     "metadata": {},
     "output_type": "execute_result"
    }
   ],
   "source": [
    "(data7.groupby('>24h').size()/len(data7['>24h']))*100 # categorie percentuali sul totale"
   ]
  },
  {
   "cell_type": "code",
   "execution_count": 625,
   "metadata": {},
   "outputs": [
    {
     "data": {
      "text/plain": [
       "parto\n",
       "1.0    265\n",
       "2.0     32\n",
       "3.0     53\n",
       "dtype: int64"
      ]
     },
     "execution_count": 625,
     "metadata": {},
     "output_type": "execute_result"
    }
   ],
   "source": [
    "data7.groupby('parto').size()   # valori assoluti"
   ]
  },
  {
   "cell_type": "code",
   "execution_count": 626,
   "metadata": {},
   "outputs": [
    {
     "data": {
      "text/plain": [
       "parto\n",
       "1.0    0.754986\n",
       "2.0    0.091168\n",
       "3.0    0.150997\n",
       "dtype: float64"
      ]
     },
     "execution_count": 626,
     "metadata": {},
     "output_type": "execute_result"
    }
   ],
   "source": [
    "data7.groupby('parto').size()/len(data7['parto'])  # frequenze relative"
   ]
  },
  {
   "cell_type": "code",
   "execution_count": 627,
   "metadata": {},
   "outputs": [
    {
     "data": {
      "text/plain": [
       "parto\n",
       "1.0    75.498575\n",
       "2.0     9.116809\n",
       "3.0    15.099715\n",
       "dtype: float64"
      ]
     },
     "execution_count": 627,
     "metadata": {},
     "output_type": "execute_result"
    }
   ],
   "source": [
    "(data7.groupby('parto').size()/len(data7['parto']))*100 # categorie percentuali sul totale"
   ]
  },
  {
   "cell_type": "code",
   "execution_count": 628,
   "metadata": {},
   "outputs": [
    {
     "data": {
      "text/plain": [
       "analgesia\n",
       "1.0    206\n",
       "2.0    144\n",
       "dtype: int64"
      ]
     },
     "execution_count": 628,
     "metadata": {},
     "output_type": "execute_result"
    }
   ],
   "source": [
    "data7.groupby('analgesia').size()   # valori assoluti"
   ]
  },
  {
   "cell_type": "code",
   "execution_count": 629,
   "metadata": {},
   "outputs": [
    {
     "data": {
      "text/plain": [
       "analgesia\n",
       "1.0    0.586895\n",
       "2.0    0.410256\n",
       "dtype: float64"
      ]
     },
     "execution_count": 629,
     "metadata": {},
     "output_type": "execute_result"
    }
   ],
   "source": [
    "data7.groupby('analgesia').size()/len(data7['analgesia'])"
   ]
  },
  {
   "cell_type": "code",
   "execution_count": 630,
   "metadata": {},
   "outputs": [
    {
     "data": {
      "text/plain": [
       "analgesia\n",
       "1.0    58.689459\n",
       "2.0    41.025641\n",
       "dtype: float64"
      ]
     },
     "execution_count": 630,
     "metadata": {},
     "output_type": "execute_result"
    }
   ],
   "source": [
    "  # frequenze relative\n",
    "(data7.groupby('analgesia').size()/len(data7['analgesia']))*100 # percentuali sul totale"
   ]
  },
  {
   "cell_type": "markdown",
   "metadata": {},
   "source": [
    "Correlazione tra ptsd e nullipare "
   ]
  },
  {
   "cell_type": "code",
   "execution_count": 261,
   "metadata": {
    "scrolled": true
   },
   "outputs": [
    {
     "data": {
      "text/html": [
       "<div>\n",
       "<style scoped>\n",
       "    .dataframe tbody tr th:only-of-type {\n",
       "        vertical-align: middle;\n",
       "    }\n",
       "\n",
       "    .dataframe tbody tr th {\n",
       "        vertical-align: top;\n",
       "    }\n",
       "\n",
       "    .dataframe thead th {\n",
       "        text-align: right;\n",
       "    }\n",
       "</style>\n",
       "<table border=\"1\" class=\"dataframe\">\n",
       "  <thead>\n",
       "    <tr style=\"text-align: right;\">\n",
       "      <th></th>\n",
       "      <th>F2PTSDcomp</th>\n",
       "      <th>para</th>\n",
       "    </tr>\n",
       "  </thead>\n",
       "  <tbody>\n",
       "    <tr>\n",
       "      <th>F2PTSDcomp</th>\n",
       "      <td>1.0</td>\n",
       "      <td>NaN</td>\n",
       "    </tr>\n",
       "    <tr>\n",
       "      <th>para</th>\n",
       "      <td>NaN</td>\n",
       "      <td>NaN</td>\n",
       "    </tr>\n",
       "  </tbody>\n",
       "</table>\n",
       "</div>"
      ],
      "text/plain": [
       "            F2PTSDcomp  para\n",
       "F2PTSDcomp         1.0   NaN\n",
       "para               NaN   NaN"
      ]
     },
     "execution_count": 261,
     "metadata": {},
     "output_type": "execute_result"
    }
   ],
   "source": [
    "d3=data[['F2PTSDcomp','para']]\n",
    "data8=d3[d3.para==0]; len(data8)  # 219 nullipare\n",
    "d=data8.dropna(axis=0); d # 1 osservazione ha NaN per Ptsd\n",
    "data8 = data8.drop(data8.index[5]); data8\n",
    "data8.corr()  # proviamo in un altro modo"
   ]
  },
  {
   "cell_type": "markdown",
   "metadata": {},
   "source": [
    "Proporzione di nullipsare con f2ptsdcomp=0 sul totale delle nullipare"
   ]
  },
  {
   "cell_type": "code",
   "execution_count": 632,
   "metadata": {},
   "outputs": [
    {
     "data": {
      "text/plain": [
       "0.9174311926605505"
      ]
     },
     "execution_count": 632,
     "metadata": {},
     "output_type": "execute_result"
    }
   ],
   "source": [
    "data8=data8[data8.F2PTSDcomp==0]; len(data8)\n",
    "# 200 donne su 218 nullipare presentano f2ptsdcomp=0\n",
    "200/218 "
   ]
  },
  {
   "cell_type": "markdown",
   "metadata": {},
   "source": [
    "Calcolo frequenze assolute, relative e percentuali di: para, pre-tc, aborti, grav"
   ]
  },
  {
   "cell_type": "code",
   "execution_count": 633,
   "metadata": {},
   "outputs": [
    {
     "data": {
      "text/plain": [
       "para\n",
       "0.0    219\n",
       "1.0    131\n",
       "dtype: int64"
      ]
     },
     "execution_count": 633,
     "metadata": {},
     "output_type": "execute_result"
    }
   ],
   "source": [
    "data9=data[['para','grav','pre-tc','aborti']];\n",
    "data9.groupby('para').size()     # frequenze assolute"
   ]
  },
  {
   "cell_type": "code",
   "execution_count": 634,
   "metadata": {},
   "outputs": [
    {
     "data": {
      "text/plain": [
       "para\n",
       "0.0    0.623932\n",
       "1.0    0.373219\n",
       "dtype: float64"
      ]
     },
     "execution_count": 634,
     "metadata": {},
     "output_type": "execute_result"
    }
   ],
   "source": [
    "data9.groupby('para').size()/len(data9['para']) "
   ]
  },
  {
   "cell_type": "code",
   "execution_count": 635,
   "metadata": {},
   "outputs": [
    {
     "data": {
      "text/plain": [
       "para\n",
       "0.0    62.393162\n",
       "1.0    37.321937\n",
       "dtype: float64"
      ]
     },
     "execution_count": 635,
     "metadata": {},
     "output_type": "execute_result"
    }
   ],
   "source": [
    " # frequenze relative\n",
    "(data9.groupby('para').size()/len(data9['para']))*100 # categorie percentuali sul totale"
   ]
  },
  {
   "cell_type": "code",
   "execution_count": 636,
   "metadata": {},
   "outputs": [
    {
     "data": {
      "text/plain": [
       "grav\n",
       "1.0    156\n",
       "2.0    194\n",
       "dtype: int64"
      ]
     },
     "execution_count": 636,
     "metadata": {},
     "output_type": "execute_result"
    }
   ],
   "source": [
    "data9.groupby('grav').size()     # frequenze assolute"
   ]
  },
  {
   "cell_type": "code",
   "execution_count": 637,
   "metadata": {},
   "outputs": [
    {
     "data": {
      "text/plain": [
       "grav\n",
       "1.0    0.444444\n",
       "2.0    0.552707\n",
       "dtype: float64"
      ]
     },
     "execution_count": 637,
     "metadata": {},
     "output_type": "execute_result"
    }
   ],
   "source": [
    "data9.groupby('grav').size()/len(data9['grav'])  # frequenze relative"
   ]
  },
  {
   "cell_type": "code",
   "execution_count": 638,
   "metadata": {},
   "outputs": [
    {
     "data": {
      "text/plain": [
       "grav\n",
       "1.0    44.444444\n",
       "2.0    55.270655\n",
       "dtype: float64"
      ]
     },
     "execution_count": 638,
     "metadata": {},
     "output_type": "execute_result"
    }
   ],
   "source": [
    "(data9.groupby('grav').size()/len(data9['grav']))*100 # categorie percentuali sul totale"
   ]
  },
  {
   "cell_type": "code",
   "execution_count": 639,
   "metadata": {},
   "outputs": [
    {
     "data": {
      "text/plain": [
       "pre-tc\n",
       "0.0    320\n",
       "1.0     30\n",
       "dtype: int64"
      ]
     },
     "execution_count": 639,
     "metadata": {},
     "output_type": "execute_result"
    }
   ],
   "source": [
    "data9.groupby('pre-tc').size()     # frequenze assolute"
   ]
  },
  {
   "cell_type": "code",
   "execution_count": 640,
   "metadata": {},
   "outputs": [
    {
     "data": {
      "text/plain": [
       "pre-tc\n",
       "0.0    0.911681\n",
       "1.0    0.085470\n",
       "dtype: float64"
      ]
     },
     "execution_count": 640,
     "metadata": {},
     "output_type": "execute_result"
    }
   ],
   "source": [
    "data9.groupby('pre-tc').size()/len(data9['pre-tc'])  # frequenze relative"
   ]
  },
  {
   "cell_type": "code",
   "execution_count": 641,
   "metadata": {},
   "outputs": [
    {
     "data": {
      "text/plain": [
       "pre-tc\n",
       "0.0    91.168091\n",
       "1.0     8.547009\n",
       "dtype: float64"
      ]
     },
     "execution_count": 641,
     "metadata": {},
     "output_type": "execute_result"
    }
   ],
   "source": [
    "(data9.groupby('pre-tc').size()/len(data9['pre-tc']))*100 # categorie percentuali sul totale"
   ]
  },
  {
   "cell_type": "code",
   "execution_count": 642,
   "metadata": {},
   "outputs": [
    {
     "data": {
      "text/plain": [
       "aborti\n",
       "0.0    283\n",
       "1.0     67\n",
       "dtype: int64"
      ]
     },
     "execution_count": 642,
     "metadata": {},
     "output_type": "execute_result"
    }
   ],
   "source": [
    "data9.groupby('aborti').size()     # frequenze assolute"
   ]
  },
  {
   "cell_type": "code",
   "execution_count": 643,
   "metadata": {},
   "outputs": [
    {
     "data": {
      "text/plain": [
       "aborti\n",
       "0.0    0.806268\n",
       "1.0    0.190883\n",
       "dtype: float64"
      ]
     },
     "execution_count": 643,
     "metadata": {},
     "output_type": "execute_result"
    }
   ],
   "source": [
    "data9.groupby('aborti').size()/len(data9['aborti'])  # frequenze relative"
   ]
  },
  {
   "cell_type": "code",
   "execution_count": 644,
   "metadata": {},
   "outputs": [
    {
     "data": {
      "text/plain": [
       "aborti\n",
       "0.0    80.626781\n",
       "1.0    19.088319\n",
       "dtype: float64"
      ]
     },
     "execution_count": 644,
     "metadata": {},
     "output_type": "execute_result"
    }
   ],
   "source": [
    "(data9.groupby('aborti').size()/len(data9['aborti']))*100 # categorie percentuali sul totale"
   ]
  },
  {
   "cell_type": "markdown",
   "metadata": {},
   "source": [
    "Calcolo quante hanno ptsd molto gravi (variabile ‘f2ptsd>33’)"
   ]
  },
  {
   "cell_type": "code",
   "execution_count": 281,
   "metadata": {},
   "outputs": [
    {
     "data": {
      "text/plain": [
       "13.583815028901732"
      ]
     },
     "execution_count": 281,
     "metadata": {},
     "output_type": "execute_result"
    }
   ],
   "source": [
    "d4=data.groupby('F2Tptsd').size()\n",
    "sum(d4[34:])    # 47 pazienti presentano ptsd grave\n",
    "sum(d4[34:])/sum(d4[0:])   # 0.135 è la frequenza relativa di chi presenta ptsd grave\n",
    "sum(d4[34:])/sum(d4[0:])*100 # 13.584 è la percentuale di colore che presentano ptsd grave"
   ]
  },
  {
   "cell_type": "markdown",
   "metadata": {},
   "source": [
    "Correlazione PPO con f2stais e f2stait"
   ]
  },
  {
   "cell_type": "code",
   "execution_count": 295,
   "metadata": {},
   "outputs": [
    {
     "data": {
      "text/html": [
       "<div>\n",
       "<style scoped>\n",
       "    .dataframe tbody tr th:only-of-type {\n",
       "        vertical-align: middle;\n",
       "    }\n",
       "\n",
       "    .dataframe tbody tr th {\n",
       "        vertical-align: top;\n",
       "    }\n",
       "\n",
       "    .dataframe thead th {\n",
       "        text-align: right;\n",
       "    }\n",
       "</style>\n",
       "<table border=\"1\" class=\"dataframe\">\n",
       "  <thead>\n",
       "    <tr style=\"text-align: right;\">\n",
       "      <th></th>\n",
       "      <th>PPO</th>\n",
       "      <th>F2STAIT</th>\n",
       "      <th>F2STAIS</th>\n",
       "    </tr>\n",
       "  </thead>\n",
       "  <tbody>\n",
       "    <tr>\n",
       "      <th>PPO</th>\n",
       "      <td>1.000000</td>\n",
       "      <td>0.084594</td>\n",
       "      <td>0.011985</td>\n",
       "    </tr>\n",
       "    <tr>\n",
       "      <th>F2STAIT</th>\n",
       "      <td>0.084594</td>\n",
       "      <td>1.000000</td>\n",
       "      <td>0.430778</td>\n",
       "    </tr>\n",
       "    <tr>\n",
       "      <th>F2STAIS</th>\n",
       "      <td>0.011985</td>\n",
       "      <td>0.430778</td>\n",
       "      <td>1.000000</td>\n",
       "    </tr>\n",
       "  </tbody>\n",
       "</table>\n",
       "</div>"
      ],
      "text/plain": [
       "              PPO   F2STAIT   F2STAIS\n",
       "PPO      1.000000  0.084594  0.011985\n",
       "F2STAIT  0.084594  1.000000  0.430778\n",
       "F2STAIS  0.011985  0.430778  1.000000"
      ]
     },
     "execution_count": 295,
     "metadata": {},
     "output_type": "execute_result"
    }
   ],
   "source": [
    "data9=data[['PPO','F2STAIT','F2STAIS']]\n",
    "data9.corr()"
   ]
  },
  {
   "cell_type": "code",
   "execution_count": 299,
   "metadata": {},
   "outputs": [
    {
     "data": {
      "text/html": [
       "<div>\n",
       "<style scoped>\n",
       "    .dataframe tbody tr th:only-of-type {\n",
       "        vertical-align: middle;\n",
       "    }\n",
       "\n",
       "    .dataframe tbody tr th {\n",
       "        vertical-align: top;\n",
       "    }\n",
       "\n",
       "    .dataframe thead th {\n",
       "        text-align: right;\n",
       "    }\n",
       "</style>\n",
       "<table border=\"1\" class=\"dataframe\">\n",
       "  <thead>\n",
       "    <tr style=\"text-align: right;\">\n",
       "      <th></th>\n",
       "      <th>PPO</th>\n",
       "      <th>F2STAIT</th>\n",
       "      <th>F2STAIS</th>\n",
       "    </tr>\n",
       "  </thead>\n",
       "  <tbody>\n",
       "    <tr>\n",
       "      <th>PPO</th>\n",
       "      <td>1.000000</td>\n",
       "      <td>0.087810</td>\n",
       "      <td>0.043371</td>\n",
       "    </tr>\n",
       "    <tr>\n",
       "      <th>F2STAIT</th>\n",
       "      <td>0.087810</td>\n",
       "      <td>1.000000</td>\n",
       "      <td>0.410559</td>\n",
       "    </tr>\n",
       "    <tr>\n",
       "      <th>F2STAIS</th>\n",
       "      <td>0.043371</td>\n",
       "      <td>0.410559</td>\n",
       "      <td>1.000000</td>\n",
       "    </tr>\n",
       "  </tbody>\n",
       "</table>\n",
       "</div>"
      ],
      "text/plain": [
       "              PPO   F2STAIT   F2STAIS\n",
       "PPO      1.000000  0.087810  0.043371\n",
       "F2STAIT  0.087810  1.000000  0.410559\n",
       "F2STAIS  0.043371  0.410559  1.000000"
      ]
     },
     "execution_count": 299,
     "metadata": {},
     "output_type": "execute_result"
    }
   ],
   "source": [
    "data9.corr(method='spearman')"
   ]
  },
  {
   "cell_type": "markdown",
   "metadata": {},
   "source": [
    "Correlazione ptsd con: episio, perditaem, LA, second "
   ]
  },
  {
   "cell_type": "code",
   "execution_count": 352,
   "metadata": {},
   "outputs": [
    {
     "data": {
      "text/html": [
       "<div>\n",
       "<style scoped>\n",
       "    .dataframe tbody tr th:only-of-type {\n",
       "        vertical-align: middle;\n",
       "    }\n",
       "\n",
       "    .dataframe tbody tr th {\n",
       "        vertical-align: top;\n",
       "    }\n",
       "\n",
       "    .dataframe thead th {\n",
       "        text-align: right;\n",
       "    }\n",
       "</style>\n",
       "<table border=\"1\" class=\"dataframe\">\n",
       "  <thead>\n",
       "    <tr style=\"text-align: right;\">\n",
       "      <th></th>\n",
       "      <th>F2Tptsd</th>\n",
       "      <th>perditaem</th>\n",
       "      <th>LA</th>\n",
       "      <th>second</th>\n",
       "      <th>episio</th>\n",
       "    </tr>\n",
       "  </thead>\n",
       "  <tbody>\n",
       "    <tr>\n",
       "      <th>F2Tptsd</th>\n",
       "      <td>1.000000</td>\n",
       "      <td>0.060161</td>\n",
       "      <td>-0.024849</td>\n",
       "      <td>0.043557</td>\n",
       "      <td>0.147706</td>\n",
       "    </tr>\n",
       "    <tr>\n",
       "      <th>perditaem</th>\n",
       "      <td>0.060161</td>\n",
       "      <td>1.000000</td>\n",
       "      <td>0.035261</td>\n",
       "      <td>0.311368</td>\n",
       "      <td>0.190789</td>\n",
       "    </tr>\n",
       "    <tr>\n",
       "      <th>LA</th>\n",
       "      <td>-0.024849</td>\n",
       "      <td>0.035261</td>\n",
       "      <td>1.000000</td>\n",
       "      <td>0.068198</td>\n",
       "      <td>0.091271</td>\n",
       "    </tr>\n",
       "    <tr>\n",
       "      <th>second</th>\n",
       "      <td>0.043557</td>\n",
       "      <td>0.311368</td>\n",
       "      <td>0.068198</td>\n",
       "      <td>1.000000</td>\n",
       "      <td>-0.012635</td>\n",
       "    </tr>\n",
       "    <tr>\n",
       "      <th>episio</th>\n",
       "      <td>0.147706</td>\n",
       "      <td>0.190789</td>\n",
       "      <td>0.091271</td>\n",
       "      <td>-0.012635</td>\n",
       "      <td>1.000000</td>\n",
       "    </tr>\n",
       "  </tbody>\n",
       "</table>\n",
       "</div>"
      ],
      "text/plain": [
       "            F2Tptsd  perditaem        LA    second    episio\n",
       "F2Tptsd    1.000000   0.060161 -0.024849  0.043557  0.147706\n",
       "perditaem  0.060161   1.000000  0.035261  0.311368  0.190789\n",
       "LA        -0.024849   0.035261  1.000000  0.068198  0.091271\n",
       "second     0.043557   0.311368  0.068198  1.000000 -0.012635\n",
       "episio     0.147706   0.190789  0.091271 -0.012635  1.000000"
      ]
     },
     "execution_count": 352,
     "metadata": {},
     "output_type": "execute_result"
    }
   ],
   "source": [
    "data10=data[['F2Tptsd','perditaem','LA','second','episio']]\n",
    "data10.corr()"
   ]
  },
  {
   "cell_type": "markdown",
   "metadata": {},
   "source": [
    "Correlazione f2beck e ptsd (part) e alto/basso rischio (calcolato come: - alto rischio: più di due valori diversi da zero tra vomito, altritmi, problgrav, ricgrav, aborti, PPO, minaccab e basso rischio altrimenti)"
   ]
  },
  {
   "cell_type": "code",
   "execution_count": 17,
   "metadata": {},
   "outputs": [
    {
     "data": {
      "text/plain": [
       "rischio\n",
       "0    13\n",
       "1    53\n",
       "dtype: int64"
      ]
     },
     "execution_count": 17,
     "metadata": {},
     "output_type": "execute_result"
    }
   ],
   "source": [
    "data11=data[['F2Beck','F3Tptsd','F2PTSDpart','vomito','altritmi','problgrav','ricgrav',\n",
    "             'aborti','PPO','minaccab','F2STAIS','F2STAIT','F2Tptsd','peso','age','posizparto']]; \n",
    "data11=data11.dropna()\n",
    "data11['somma sintomi']=data11['vomito']+data11['altritmi']+data11['problgrav']+data11['ricgrav']+data11['aborti']+data11['PPO']+data11['minaccab']\n",
    "data11.head(10)\n",
    "\n",
    "l=[]\n",
    "for i in data11['somma sintomi']:\n",
    "    if i>2:\n",
    "        l.append(1)\n",
    "    else:\n",
    "        l.append(0)\n",
    "        \n",
    "data11['rischio']=l\n",
    "data11.groupby('rischio').size()   # quanti alto rischio e quanti basso rischio"
   ]
  },
  {
   "cell_type": "code",
   "execution_count": 23,
   "metadata": {},
   "outputs": [
    {
     "data": {
      "text/html": [
       "<div>\n",
       "<style scoped>\n",
       "    .dataframe tbody tr th:only-of-type {\n",
       "        vertical-align: middle;\n",
       "    }\n",
       "\n",
       "    .dataframe tbody tr th {\n",
       "        vertical-align: top;\n",
       "    }\n",
       "\n",
       "    .dataframe thead th {\n",
       "        text-align: right;\n",
       "    }\n",
       "</style>\n",
       "<table border=\"1\" class=\"dataframe\">\n",
       "  <thead>\n",
       "    <tr style=\"text-align: right;\">\n",
       "      <th></th>\n",
       "      <th>F2PTSDpart</th>\n",
       "      <th>F2Tptsd</th>\n",
       "      <th>F2Beck</th>\n",
       "      <th>F2STAIS</th>\n",
       "      <th>F2STAIT</th>\n",
       "      <th>somma sintomi</th>\n",
       "      <th>rischio</th>\n",
       "    </tr>\n",
       "  </thead>\n",
       "  <tbody>\n",
       "    <tr>\n",
       "      <th>12</th>\n",
       "      <td>1.0</td>\n",
       "      <td>45.0</td>\n",
       "      <td>5.0</td>\n",
       "      <td>49.0</td>\n",
       "      <td>55.0</td>\n",
       "      <td>5.0</td>\n",
       "      <td>1</td>\n",
       "    </tr>\n",
       "    <tr>\n",
       "      <th>21</th>\n",
       "      <td>1.0</td>\n",
       "      <td>25.0</td>\n",
       "      <td>8.0</td>\n",
       "      <td>48.0</td>\n",
       "      <td>50.0</td>\n",
       "      <td>2.0</td>\n",
       "      <td>0</td>\n",
       "    </tr>\n",
       "    <tr>\n",
       "      <th>22</th>\n",
       "      <td>1.0</td>\n",
       "      <td>54.0</td>\n",
       "      <td>1.0</td>\n",
       "      <td>61.0</td>\n",
       "      <td>55.0</td>\n",
       "      <td>2.0</td>\n",
       "      <td>0</td>\n",
       "    </tr>\n",
       "    <tr>\n",
       "      <th>25</th>\n",
       "      <td>0.0</td>\n",
       "      <td>9.0</td>\n",
       "      <td>1.0</td>\n",
       "      <td>43.0</td>\n",
       "      <td>42.0</td>\n",
       "      <td>2.0</td>\n",
       "      <td>0</td>\n",
       "    </tr>\n",
       "    <tr>\n",
       "      <th>26</th>\n",
       "      <td>1.0</td>\n",
       "      <td>11.0</td>\n",
       "      <td>10.0</td>\n",
       "      <td>46.0</td>\n",
       "      <td>48.0</td>\n",
       "      <td>4.0</td>\n",
       "      <td>1</td>\n",
       "    </tr>\n",
       "    <tr>\n",
       "      <th>27</th>\n",
       "      <td>0.0</td>\n",
       "      <td>11.0</td>\n",
       "      <td>5.0</td>\n",
       "      <td>40.0</td>\n",
       "      <td>40.0</td>\n",
       "      <td>4.0</td>\n",
       "      <td>1</td>\n",
       "    </tr>\n",
       "    <tr>\n",
       "      <th>31</th>\n",
       "      <td>1.0</td>\n",
       "      <td>27.0</td>\n",
       "      <td>4.0</td>\n",
       "      <td>42.0</td>\n",
       "      <td>41.0</td>\n",
       "      <td>6.0</td>\n",
       "      <td>1</td>\n",
       "    </tr>\n",
       "    <tr>\n",
       "      <th>32</th>\n",
       "      <td>1.0</td>\n",
       "      <td>14.0</td>\n",
       "      <td>2.0</td>\n",
       "      <td>51.0</td>\n",
       "      <td>58.0</td>\n",
       "      <td>2.0</td>\n",
       "      <td>0</td>\n",
       "    </tr>\n",
       "    <tr>\n",
       "      <th>33</th>\n",
       "      <td>0.0</td>\n",
       "      <td>14.0</td>\n",
       "      <td>0.0</td>\n",
       "      <td>43.0</td>\n",
       "      <td>47.0</td>\n",
       "      <td>3.0</td>\n",
       "      <td>1</td>\n",
       "    </tr>\n",
       "    <tr>\n",
       "      <th>35</th>\n",
       "      <td>1.0</td>\n",
       "      <td>38.0</td>\n",
       "      <td>8.0</td>\n",
       "      <td>47.0</td>\n",
       "      <td>42.0</td>\n",
       "      <td>4.0</td>\n",
       "      <td>1</td>\n",
       "    </tr>\n",
       "  </tbody>\n",
       "</table>\n",
       "</div>"
      ],
      "text/plain": [
       "    F2PTSDpart  F2Tptsd  F2Beck  F2STAIS  F2STAIT  somma sintomi  rischio\n",
       "12         1.0     45.0     5.0     49.0     55.0            5.0        1\n",
       "21         1.0     25.0     8.0     48.0     50.0            2.0        0\n",
       "22         1.0     54.0     1.0     61.0     55.0            2.0        0\n",
       "25         0.0      9.0     1.0     43.0     42.0            2.0        0\n",
       "26         1.0     11.0    10.0     46.0     48.0            4.0        1\n",
       "27         0.0     11.0     5.0     40.0     40.0            4.0        1\n",
       "31         1.0     27.0     4.0     42.0     41.0            6.0        1\n",
       "32         1.0     14.0     2.0     51.0     58.0            2.0        0\n",
       "33         0.0     14.0     0.0     43.0     47.0            3.0        1\n",
       "35         1.0     38.0     8.0     47.0     42.0            4.0        1"
      ]
     },
     "execution_count": 23,
     "metadata": {},
     "output_type": "execute_result"
    }
   ],
   "source": [
    "data11.head(20)\n",
    "data11bis=data11[['F2PTSDpart','F2Tptsd','F2Beck','F2STAIS','F2STAIT','somma sintomi','rischio']]; \n",
    "data11b=data[['F2Tptsd','vomito','altritmi','problgrav','ricgrav','aborti','PPO','minaccab']]\n",
    "data11bis.head(10)"
   ]
  },
  {
   "cell_type": "code",
   "execution_count": 24,
   "metadata": {},
   "outputs": [
    {
     "data": {
      "text/plain": [
       "F2Tptsd      1.000\n",
       "vomito       0.005\n",
       "altritmi     0.124\n",
       "problgrav   -0.065\n",
       "ricgrav      0.170\n",
       "aborti      -0.098\n",
       "PPO          0.076\n",
       "minaccab    -0.030\n",
       "Name: F2Tptsd, dtype: float64"
      ]
     },
     "execution_count": 24,
     "metadata": {},
     "output_type": "execute_result"
    }
   ],
   "source": [
    "round(data11b.corr()['F2Tptsd'], 3)"
   ]
  },
  {
   "cell_type": "code",
   "execution_count": 342,
   "metadata": {},
   "outputs": [
    {
     "data": {
      "text/html": [
       "<div>\n",
       "<style scoped>\n",
       "    .dataframe tbody tr th:only-of-type {\n",
       "        vertical-align: middle;\n",
       "    }\n",
       "\n",
       "    .dataframe tbody tr th {\n",
       "        vertical-align: top;\n",
       "    }\n",
       "\n",
       "    .dataframe thead th {\n",
       "        text-align: right;\n",
       "    }\n",
       "</style>\n",
       "<table border=\"1\" class=\"dataframe\">\n",
       "  <thead>\n",
       "    <tr style=\"text-align: right;\">\n",
       "      <th></th>\n",
       "      <th>F2PTSDpart</th>\n",
       "      <th>F2Beck</th>\n",
       "      <th>rischio</th>\n",
       "    </tr>\n",
       "  </thead>\n",
       "  <tbody>\n",
       "    <tr>\n",
       "      <th>F2PTSDpart</th>\n",
       "      <td>1.000000</td>\n",
       "      <td>0.139735</td>\n",
       "      <td>0.029162</td>\n",
       "    </tr>\n",
       "    <tr>\n",
       "      <th>F2Beck</th>\n",
       "      <td>0.139735</td>\n",
       "      <td>1.000000</td>\n",
       "      <td>0.042821</td>\n",
       "    </tr>\n",
       "    <tr>\n",
       "      <th>rischio</th>\n",
       "      <td>0.029162</td>\n",
       "      <td>0.042821</td>\n",
       "      <td>1.000000</td>\n",
       "    </tr>\n",
       "  </tbody>\n",
       "</table>\n",
       "</div>"
      ],
      "text/plain": [
       "            F2PTSDpart    F2Beck   rischio\n",
       "F2PTSDpart    1.000000  0.139735  0.029162\n",
       "F2Beck        0.139735  1.000000  0.042821\n",
       "rischio       0.029162  0.042821  1.000000"
      ]
     },
     "execution_count": 342,
     "metadata": {},
     "output_type": "execute_result"
    }
   ],
   "source": [
    "data11bis.corr()\n",
    "data11bis.corr(method='spearman')\n",
    "data11bis.corr(method='kendall')"
   ]
  },
  {
   "cell_type": "markdown",
   "metadata": {},
   "source": [
    "F3ptsd come correla con i vari sintomi?"
   ]
  },
  {
   "cell_type": "code",
   "execution_count": 655,
   "metadata": {},
   "outputs": [
    {
     "data": {
      "text/plain": [
       "81"
      ]
     },
     "execution_count": 655,
     "metadata": {},
     "output_type": "execute_result"
    }
   ],
   "source": [
    "data12=data[['F3Tptsd','vomito','altritmi','problgrav','ricgrav','aborti','PPO','minaccab']]\n",
    "data12=data12.dropna(); len(data12)  # 81 osservazioni presentano F3Tptsd"
   ]
  },
  {
   "cell_type": "code",
   "execution_count": 656,
   "metadata": {},
   "outputs": [
    {
     "data": {
      "text/plain": [
       "F3Tptsd          1.000\n",
       "vomito          -0.029\n",
       "altritmi         0.263\n",
       "problgrav       -0.128\n",
       "ricgrav          0.217\n",
       "aborti          -0.053\n",
       "PPO              0.219\n",
       "minaccab         0.147\n",
       "somma sintomi    0.240\n",
       "rischio          0.241\n",
       "Name: F3Tptsd, dtype: float64"
      ]
     },
     "execution_count": 656,
     "metadata": {},
     "output_type": "execute_result"
    }
   ],
   "source": [
    "data12['somma sintomi']=data12['vomito']+data12['altritmi']+data12['problgrav']+data12['ricgrav']+data12['aborti']+data12['PPO']+data12['minaccab']\n",
    "data12.head(10)\n",
    "\n",
    "l2=[]\n",
    "for i in data12['somma sintomi']:\n",
    "    if i>2:\n",
    "        l2.append(1)\n",
    "    else:\n",
    "        l2.append(0)\n",
    "        \n",
    "data12['rischio']=l2\n",
    "\n",
    "round(data12.corr()['F3Tptsd'], 3)"
   ]
  },
  {
   "cell_type": "markdown",
   "metadata": {},
   "source": [
    "Verifica se alzando la soglia a 3 la correlazione tra somma di sintomi e f2ptsd e f3ptsd si alza:"
   ]
  },
  {
   "cell_type": "code",
   "execution_count": 658,
   "metadata": {},
   "outputs": [
    {
     "name": "stderr",
     "output_type": "stream",
     "text": [
      "/anaconda3/lib/python3.7/site-packages/ipykernel_launcher.py:3: SettingWithCopyWarning: \n",
      "A value is trying to be set on a copy of a slice from a DataFrame.\n",
      "Try using .loc[row_indexer,col_indexer] = value instead\n",
      "\n",
      "See the caveats in the documentation: http://pandas.pydata.org/pandas-docs/stable/indexing.html#indexing-view-versus-copy\n",
      "  This is separate from the ipykernel package so we can avoid doing imports until\n",
      "/anaconda3/lib/python3.7/site-packages/ipykernel_launcher.py:13: SettingWithCopyWarning: \n",
      "A value is trying to be set on a copy of a slice from a DataFrame.\n",
      "Try using .loc[row_indexer,col_indexer] = value instead\n",
      "\n",
      "See the caveats in the documentation: http://pandas.pydata.org/pandas-docs/stable/indexing.html#indexing-view-versus-copy\n",
      "  del sys.path[0]\n"
     ]
    },
    {
     "data": {
      "text/plain": [
       "F3Tptsd          1.000\n",
       "vomito          -0.054\n",
       "altritmi         0.263\n",
       "problgrav       -0.112\n",
       "ricgrav          0.202\n",
       "aborti          -0.084\n",
       "PPO              0.253\n",
       "minaccab         0.130\n",
       "somma sintomi    0.240\n",
       "rischio2         0.216\n",
       "Name: F3Tptsd, dtype: float64"
      ]
     },
     "execution_count": 658,
     "metadata": {},
     "output_type": "execute_result"
    }
   ],
   "source": [
    "data12=data[['F3Tptsd','vomito','altritmi','problgrav','ricgrav','aborti','PPO','minaccab']]\n",
    "\n",
    "data12['somma sintomi']=data12['vomito']+data12['altritmi']+data12['problgrav']+data12['ricgrav']+data12['aborti']+data12['PPO']+data12['minaccab']\n",
    "data12.head(10)\n",
    "\n",
    "l3=[]\n",
    "for i in data12['somma sintomi']:\n",
    "    if i>3:\n",
    "        l3.append(1)\n",
    "    else:\n",
    "        l3.append(0)\n",
    "        \n",
    "data12['rischio2']=l3\n",
    "\n",
    "round(data12.corr()['F3Tptsd'],3)    \n",
    "# è curioso come alzando la soglia il rischio sia meno correlato"
   ]
  },
  {
   "cell_type": "markdown",
   "metadata": {},
   "source": [
    "Quanti hanno ptsd molto gravi (variabile ‘f3ptsd>33’). "
   ]
  },
  {
   "cell_type": "code",
   "execution_count": 351,
   "metadata": {},
   "outputs": [
    {
     "data": {
      "text/plain": [
       "24.705882352941178"
      ]
     },
     "execution_count": 351,
     "metadata": {},
     "output_type": "execute_result"
    }
   ],
   "source": [
    "d5=data.groupby('F3Tptsd').size(); # totale pazienti con f3ptsd rilevato è 85\n",
    "sum(d5[34:])    # 21 pazienti presentano ptsd grave\n",
    "sum(d5[34:])/sum(d5[0:])   # 0.247 è la frequenza relativa di chi presenta ptsd grave\n",
    "sum(d5[34:])/sum(d5[0:])*100 # 24,706 è la percentuale di colore che presentano ptsd grave"
   ]
  },
  {
   "cell_type": "markdown",
   "metadata": {},
   "source": [
    "Età media delle donne"
   ]
  },
  {
   "cell_type": "code",
   "execution_count": 354,
   "metadata": {},
   "outputs": [
    {
     "data": {
      "text/plain": [
       "33.267806267806264"
      ]
     },
     "execution_count": 354,
     "metadata": {},
     "output_type": "execute_result"
    }
   ],
   "source": [
    "data['age'].mean()"
   ]
  },
  {
   "cell_type": "markdown",
   "metadata": {},
   "source": [
    "Correlazione f2stait e f2 stait"
   ]
  },
  {
   "cell_type": "code",
   "execution_count": 357,
   "metadata": {},
   "outputs": [
    {
     "data": {
      "text/plain": [
       "0.4307783434533827"
      ]
     },
     "execution_count": 357,
     "metadata": {},
     "output_type": "execute_result"
    }
   ],
   "source": [
    "data.corr()['F2STAIS']['F2STAIT']"
   ]
  },
  {
   "cell_type": "markdown",
   "metadata": {},
   "source": [
    "Correlazione f1beck e f2beck"
   ]
  },
  {
   "cell_type": "code",
   "execution_count": 358,
   "metadata": {},
   "outputs": [
    {
     "data": {
      "text/plain": [
       "0.4929296733362172"
      ]
     },
     "execution_count": 358,
     "metadata": {},
     "output_type": "execute_result"
    }
   ],
   "source": [
    "data.corr()['F1Beck']['F2Beck']"
   ]
  },
  {
   "cell_type": "markdown",
   "metadata": {},
   "source": [
    "Conteggio depresse e ansiose "
   ]
  },
  {
   "cell_type": "code",
   "execution_count": 385,
   "metadata": {},
   "outputs": [
    {
     "data": {
      "text/plain": [
       "F2Beck\n",
       "0.0     11\n",
       "1.0      5\n",
       "2.0      7\n",
       "3.0      9\n",
       "4.0      8\n",
       "5.0      1\n",
       "6.0      3\n",
       "8.0      1\n",
       "9.0      3\n",
       "12.0     2\n",
       "14.0     1\n",
       "15.0     1\n",
       "dtype: int64"
      ]
     },
     "execution_count": 385,
     "metadata": {},
     "output_type": "execute_result"
    }
   ],
   "source": [
    "l=[]\n",
    "for i in data['F2STAIS']:\n",
    "    if i>49:\n",
    "        l.append(1)\n",
    "    else:\n",
    "        l.append(0)\n",
    "        \n",
    "data['stais']=l  \n",
    "\n",
    "l2=[]\n",
    "for i in data['F2STAIT']:\n",
    "    if i>46:\n",
    "        l2.append(1)\n",
    "    else:\n",
    "        l2.append(0)\n",
    "        \n",
    "data['stait']=l2\n",
    "\n",
    "data12=data[['stais','stait','F2Beck']]; data12.head()\n",
    "\n",
    "data12a=data12[data12.stais==1]; \n",
    "data12a \n",
    "d12a=data12a.groupby('F2Beck').size(); d12a \n",
    "sum(d12a[11:])      # sono 4 depresse e ansiose stais"
   ]
  },
  {
   "cell_type": "code",
   "execution_count": 388,
   "metadata": {},
   "outputs": [
    {
     "data": {
      "text/plain": [
       "11"
      ]
     },
     "execution_count": 388,
     "metadata": {},
     "output_type": "execute_result"
    }
   ],
   "source": [
    "data12b=data12[data12.stait==1]; \n",
    "data12b \n",
    "d12b=data12b.groupby('F2Beck').size(); d12b \n",
    "sum(d12b[11:])      # sono 11 depresse e ansiose stait"
   ]
  },
  {
   "cell_type": "markdown",
   "metadata": {},
   "source": [
    "Correlazione f2beck, f2stais e f2stait con PPO=2"
   ]
  },
  {
   "cell_type": "code",
   "execution_count": 659,
   "metadata": {},
   "outputs": [
    {
     "data": {
      "text/html": [
       "<div>\n",
       "<style scoped>\n",
       "    .dataframe tbody tr th:only-of-type {\n",
       "        vertical-align: middle;\n",
       "    }\n",
       "\n",
       "    .dataframe tbody tr th {\n",
       "        vertical-align: top;\n",
       "    }\n",
       "\n",
       "    .dataframe thead th {\n",
       "        text-align: right;\n",
       "    }\n",
       "</style>\n",
       "<table border=\"1\" class=\"dataframe\">\n",
       "  <thead>\n",
       "    <tr style=\"text-align: right;\">\n",
       "      <th></th>\n",
       "      <th>F2Beck</th>\n",
       "      <th>F2STAIS</th>\n",
       "      <th>F2STAIT</th>\n",
       "      <th>PPO</th>\n",
       "    </tr>\n",
       "  </thead>\n",
       "  <tbody>\n",
       "    <tr>\n",
       "      <th>F2Beck</th>\n",
       "      <td>1.000000</td>\n",
       "      <td>0.003153</td>\n",
       "      <td>0.182596</td>\n",
       "      <td>NaN</td>\n",
       "    </tr>\n",
       "    <tr>\n",
       "      <th>F2STAIS</th>\n",
       "      <td>0.003153</td>\n",
       "      <td>1.000000</td>\n",
       "      <td>0.306651</td>\n",
       "      <td>NaN</td>\n",
       "    </tr>\n",
       "    <tr>\n",
       "      <th>F2STAIT</th>\n",
       "      <td>0.182596</td>\n",
       "      <td>0.306651</td>\n",
       "      <td>1.000000</td>\n",
       "      <td>NaN</td>\n",
       "    </tr>\n",
       "    <tr>\n",
       "      <th>PPO</th>\n",
       "      <td>NaN</td>\n",
       "      <td>NaN</td>\n",
       "      <td>NaN</td>\n",
       "      <td>NaN</td>\n",
       "    </tr>\n",
       "  </tbody>\n",
       "</table>\n",
       "</div>"
      ],
      "text/plain": [
       "           F2Beck   F2STAIS   F2STAIT  PPO\n",
       "F2Beck   1.000000  0.003153  0.182596  NaN\n",
       "F2STAIS  0.003153  1.000000  0.306651  NaN\n",
       "F2STAIT  0.182596  0.306651  1.000000  NaN\n",
       "PPO           NaN       NaN       NaN  NaN"
      ]
     },
     "execution_count": 659,
     "metadata": {},
     "output_type": "execute_result"
    }
   ],
   "source": [
    "data13=data[['F2Beck','F2STAIS','F2STAIT','PPO']]\n",
    "data13=data13.dropna()\n",
    "data13=data13[data13.PPO==2]; data13\n",
    "data13.corr() \n",
    "# sono NaN le corr con PPO, dato che PPO=2 è degenere (assume sempre lo stesso valore)"
   ]
  },
  {
   "cell_type": "markdown",
   "metadata": {},
   "source": [
    "Correlazione f3beck, f3stais e f3stait con PPO=2"
   ]
  },
  {
   "cell_type": "code",
   "execution_count": 398,
   "metadata": {},
   "outputs": [
    {
     "data": {
      "text/html": [
       "<div>\n",
       "<style scoped>\n",
       "    .dataframe tbody tr th:only-of-type {\n",
       "        vertical-align: middle;\n",
       "    }\n",
       "\n",
       "    .dataframe tbody tr th {\n",
       "        vertical-align: top;\n",
       "    }\n",
       "\n",
       "    .dataframe thead th {\n",
       "        text-align: right;\n",
       "    }\n",
       "</style>\n",
       "<table border=\"1\" class=\"dataframe\">\n",
       "  <thead>\n",
       "    <tr style=\"text-align: right;\">\n",
       "      <th></th>\n",
       "      <th>F3Beck</th>\n",
       "      <th>F3STAIS</th>\n",
       "      <th>F3STAIT</th>\n",
       "      <th>PPO</th>\n",
       "    </tr>\n",
       "  </thead>\n",
       "  <tbody>\n",
       "    <tr>\n",
       "      <th>F3Beck</th>\n",
       "      <td>1.000000</td>\n",
       "      <td>-0.217810</td>\n",
       "      <td>0.286316</td>\n",
       "      <td>NaN</td>\n",
       "    </tr>\n",
       "    <tr>\n",
       "      <th>F3STAIS</th>\n",
       "      <td>-0.217810</td>\n",
       "      <td>1.000000</td>\n",
       "      <td>0.286488</td>\n",
       "      <td>NaN</td>\n",
       "    </tr>\n",
       "    <tr>\n",
       "      <th>F3STAIT</th>\n",
       "      <td>0.286316</td>\n",
       "      <td>0.286488</td>\n",
       "      <td>1.000000</td>\n",
       "      <td>NaN</td>\n",
       "    </tr>\n",
       "    <tr>\n",
       "      <th>PPO</th>\n",
       "      <td>NaN</td>\n",
       "      <td>NaN</td>\n",
       "      <td>NaN</td>\n",
       "      <td>NaN</td>\n",
       "    </tr>\n",
       "  </tbody>\n",
       "</table>\n",
       "</div>"
      ],
      "text/plain": [
       "           F3Beck   F3STAIS   F3STAIT  PPO\n",
       "F3Beck   1.000000 -0.217810  0.286316  NaN\n",
       "F3STAIS -0.217810  1.000000  0.286488  NaN\n",
       "F3STAIT  0.286316  0.286488  1.000000  NaN\n",
       "PPO           NaN       NaN       NaN  NaN"
      ]
     },
     "execution_count": 398,
     "metadata": {},
     "output_type": "execute_result"
    }
   ],
   "source": [
    "data14=data[['F3Beck','F3STAIS','F3STAIT','PPO']]\n",
    "data14=data14.dropna()\n",
    "data14=data14[data14.PPO==2]; data13\n",
    "data14.corr() \n",
    "# sono NaN le corr con PPO, dato che PPO=2 è degenere (assume sempre lo stesso valore)"
   ]
  },
  {
   "cell_type": "markdown",
   "metadata": {},
   "source": [
    "Correlazione Temozsèpos, Temozsèneg, Temozsèmist, Tnoemozsè con: f2ptsdpart f2ptsdcomp e f3ptsdpart e f3ptsdcomp"
   ]
  },
  {
   "cell_type": "code",
   "execution_count": 6,
   "metadata": {},
   "outputs": [
    {
     "data": {
      "text/html": [
       "<div>\n",
       "<style scoped>\n",
       "    .dataframe tbody tr th:only-of-type {\n",
       "        vertical-align: middle;\n",
       "    }\n",
       "\n",
       "    .dataframe tbody tr th {\n",
       "        vertical-align: top;\n",
       "    }\n",
       "\n",
       "    .dataframe thead th {\n",
       "        text-align: right;\n",
       "    }\n",
       "</style>\n",
       "<table border=\"1\" class=\"dataframe\">\n",
       "  <thead>\n",
       "    <tr style=\"text-align: right;\">\n",
       "      <th></th>\n",
       "      <th>Temozsèpos</th>\n",
       "      <th>Temozsèneg</th>\n",
       "      <th>Temozsèmist</th>\n",
       "      <th>Tnoemozsè</th>\n",
       "      <th>F2PTSDpart</th>\n",
       "      <th>F2PTSDcomp</th>\n",
       "      <th>F3PTSDpart</th>\n",
       "      <th>F3Tptsd</th>\n",
       "      <th>PPO</th>\n",
       "    </tr>\n",
       "  </thead>\n",
       "  <tbody>\n",
       "    <tr>\n",
       "      <th>Temozsèpos</th>\n",
       "      <td>1.000</td>\n",
       "      <td>0.128</td>\n",
       "      <td>0.004</td>\n",
       "      <td>-0.583</td>\n",
       "      <td>0.010</td>\n",
       "      <td>-0.087</td>\n",
       "      <td>0.022</td>\n",
       "      <td>0.126</td>\n",
       "      <td>-0.039</td>\n",
       "    </tr>\n",
       "    <tr>\n",
       "      <th>Temozsèneg</th>\n",
       "      <td>0.128</td>\n",
       "      <td>1.000</td>\n",
       "      <td>0.057</td>\n",
       "      <td>-0.555</td>\n",
       "      <td>0.052</td>\n",
       "      <td>0.131</td>\n",
       "      <td>0.227</td>\n",
       "      <td>0.311</td>\n",
       "      <td>-0.039</td>\n",
       "    </tr>\n",
       "    <tr>\n",
       "      <th>Temozsèmist</th>\n",
       "      <td>0.004</td>\n",
       "      <td>0.057</td>\n",
       "      <td>1.000</td>\n",
       "      <td>-0.109</td>\n",
       "      <td>0.041</td>\n",
       "      <td>0.049</td>\n",
       "      <td>-0.123</td>\n",
       "      <td>-0.178</td>\n",
       "      <td>0.027</td>\n",
       "    </tr>\n",
       "    <tr>\n",
       "      <th>Tnoemozsè</th>\n",
       "      <td>-0.583</td>\n",
       "      <td>-0.555</td>\n",
       "      <td>-0.109</td>\n",
       "      <td>1.000</td>\n",
       "      <td>-0.011</td>\n",
       "      <td>-0.030</td>\n",
       "      <td>-0.063</td>\n",
       "      <td>-0.110</td>\n",
       "      <td>0.069</td>\n",
       "    </tr>\n",
       "    <tr>\n",
       "      <th>F2PTSDpart</th>\n",
       "      <td>0.010</td>\n",
       "      <td>0.052</td>\n",
       "      <td>0.041</td>\n",
       "      <td>-0.011</td>\n",
       "      <td>1.000</td>\n",
       "      <td>0.134</td>\n",
       "      <td>-0.014</td>\n",
       "      <td>0.047</td>\n",
       "      <td>0.009</td>\n",
       "    </tr>\n",
       "    <tr>\n",
       "      <th>F2PTSDcomp</th>\n",
       "      <td>-0.087</td>\n",
       "      <td>0.131</td>\n",
       "      <td>0.049</td>\n",
       "      <td>-0.030</td>\n",
       "      <td>0.134</td>\n",
       "      <td>1.000</td>\n",
       "      <td>0.079</td>\n",
       "      <td>0.135</td>\n",
       "      <td>-0.024</td>\n",
       "    </tr>\n",
       "    <tr>\n",
       "      <th>F3PTSDpart</th>\n",
       "      <td>0.022</td>\n",
       "      <td>0.227</td>\n",
       "      <td>-0.123</td>\n",
       "      <td>-0.063</td>\n",
       "      <td>-0.014</td>\n",
       "      <td>0.079</td>\n",
       "      <td>1.000</td>\n",
       "      <td>0.610</td>\n",
       "      <td>0.170</td>\n",
       "    </tr>\n",
       "    <tr>\n",
       "      <th>F3Tptsd</th>\n",
       "      <td>0.126</td>\n",
       "      <td>0.311</td>\n",
       "      <td>-0.178</td>\n",
       "      <td>-0.110</td>\n",
       "      <td>0.047</td>\n",
       "      <td>0.135</td>\n",
       "      <td>0.610</td>\n",
       "      <td>1.000</td>\n",
       "      <td>0.253</td>\n",
       "    </tr>\n",
       "    <tr>\n",
       "      <th>PPO</th>\n",
       "      <td>-0.039</td>\n",
       "      <td>-0.039</td>\n",
       "      <td>0.027</td>\n",
       "      <td>0.069</td>\n",
       "      <td>0.009</td>\n",
       "      <td>-0.024</td>\n",
       "      <td>0.170</td>\n",
       "      <td>0.253</td>\n",
       "      <td>1.000</td>\n",
       "    </tr>\n",
       "  </tbody>\n",
       "</table>\n",
       "</div>"
      ],
      "text/plain": [
       "             Temozsèpos  Temozsèneg  Temozsèmist  Tnoemozsè  F2PTSDpart  \\\n",
       "Temozsèpos        1.000       0.128        0.004     -0.583       0.010   \n",
       "Temozsèneg        0.128       1.000        0.057     -0.555       0.052   \n",
       "Temozsèmist       0.004       0.057        1.000     -0.109       0.041   \n",
       "Tnoemozsè        -0.583      -0.555       -0.109      1.000      -0.011   \n",
       "F2PTSDpart        0.010       0.052        0.041     -0.011       1.000   \n",
       "F2PTSDcomp       -0.087       0.131        0.049     -0.030       0.134   \n",
       "F3PTSDpart        0.022       0.227       -0.123     -0.063      -0.014   \n",
       "F3Tptsd           0.126       0.311       -0.178     -0.110       0.047   \n",
       "PPO              -0.039      -0.039        0.027      0.069       0.009   \n",
       "\n",
       "             F2PTSDcomp  F3PTSDpart  F3Tptsd    PPO  \n",
       "Temozsèpos       -0.087       0.022    0.126 -0.039  \n",
       "Temozsèneg        0.131       0.227    0.311 -0.039  \n",
       "Temozsèmist       0.049      -0.123   -0.178  0.027  \n",
       "Tnoemozsè        -0.030      -0.063   -0.110  0.069  \n",
       "F2PTSDpart        0.134      -0.014    0.047  0.009  \n",
       "F2PTSDcomp        1.000       0.079    0.135 -0.024  \n",
       "F3PTSDpart        0.079       1.000    0.610  0.170  \n",
       "F3Tptsd           0.135       0.610    1.000  0.253  \n",
       "PPO              -0.024       0.170    0.253  1.000  "
      ]
     },
     "execution_count": 6,
     "metadata": {},
     "output_type": "execute_result"
    }
   ],
   "source": [
    "data14=data[['Temozsèpos','Temozsèneg','Temozsèmist','Tnoemozsè','F2PTSDpart',\n",
    "             'F2PTSDcomp','F3PTSDpart','F3Tptsd','PPO']]\n",
    "round(data14.corr(),3)"
   ]
  },
  {
   "cell_type": "markdown",
   "metadata": {},
   "source": [
    "Correlazione Temozsèpos, Temozsèneg, Temozsèmist, Tnoemozsè e emozpos, emozneg, emozmiste, noemoz (+ bimbo e bimbomio) con: f2ptsdpart, f2ptsdcomp,  f3ptsdpart, f3ptsdcomp, f2avoid, f2intrusion, f3arousal, f3avoid, f3intrusion, f2beck, f2stais, f2stait, f3beck, f3stais, f3stait."
   ]
  },
  {
   "cell_type": "code",
   "execution_count": 5,
   "metadata": {},
   "outputs": [
    {
     "data": {
      "text/plain": [
       "Temozsèpos    -0.447\n",
       "Temozsèneg    -0.484\n",
       "Temozsèmist   -0.129\n",
       "Tnoemozsè      0.581\n",
       "nonoemoz       1.000\n",
       "emozpos       -0.570\n",
       "emozneg       -0.559\n",
       "emozmiste     -0.112\n",
       "bimbo         -0.132\n",
       "bimbomio      -0.071\n",
       "F2PTSDpart    -0.018\n",
       "F2PTSDcomp    -0.103\n",
       "F2Beck        -0.067\n",
       "F2STAIS       -0.119\n",
       "F2STAIT       -0.000\n",
       "F3PTSDpart    -0.015\n",
       "F3Tptsd       -0.147\n",
       "F2avoid       -0.079\n",
       "F2arousal     -0.114\n",
       "F2intrusion   -0.060\n",
       "F3avoid          NaN\n",
       "F3arous        0.010\n",
       "F3intrus      -0.108\n",
       "F3Beck        -0.149\n",
       "F3STAIS        0.055\n",
       "F3STAIT       -0.213\n",
       "Name: nonoemoz, dtype: float64"
      ]
     },
     "execution_count": 5,
     "metadata": {},
     "output_type": "execute_result"
    }
   ],
   "source": [
    "data15=data[['Temozsèpos','Temozsèneg','Temozsèmist','Tnoemozsè','nonoemoz','emozpos','emozneg',\n",
    "             'emozmiste','bimbo','bimbomio','F2PTSDpart','F2PTSDcomp','F2Beck',\n",
    "             'F2STAIS','F2STAIT','F3PTSDpart','F3Tptsd',\n",
    "            'F2avoid','F2arousal','F2intrusion','F3avoid','F3arous','F3intrus','F3Beck',\n",
    "             'F3STAIS','F3STAIT',]]\n",
    "data15.dropna()\n",
    "d=data15.corr(); round(d, 3)['nonoemoz']"
   ]
  },
  {
   "cell_type": "markdown",
   "metadata": {},
   "source": [
    "Per ogni modalità di partoid correlazione con: f2ptsdpart, f2ptsdcomp,  f3ptsdpart, f3ptsdcomp, f2avoid, f2intrusion, f3arousal, f3avoid, f3intrusion, f3arousal, f2beck, f2stais, f2stait, f3beck, f3stais, f3stait."
   ]
  },
  {
   "cell_type": "code",
   "execution_count": 420,
   "metadata": {},
   "outputs": [
    {
     "data": {
      "text/html": [
       "<div>\n",
       "<style scoped>\n",
       "    .dataframe tbody tr th:only-of-type {\n",
       "        vertical-align: middle;\n",
       "    }\n",
       "\n",
       "    .dataframe tbody tr th {\n",
       "        vertical-align: top;\n",
       "    }\n",
       "\n",
       "    .dataframe thead th {\n",
       "        text-align: right;\n",
       "    }\n",
       "</style>\n",
       "<table border=\"1\" class=\"dataframe\">\n",
       "  <thead>\n",
       "    <tr style=\"text-align: right;\">\n",
       "      <th></th>\n",
       "      <th>F1PartoId</th>\n",
       "      <th>F2PTSDpart</th>\n",
       "      <th>F2PTSDcomp</th>\n",
       "      <th>F3PTSDpart</th>\n",
       "      <th>F3Tptsd</th>\n",
       "      <th>F2avoid</th>\n",
       "      <th>F2intrusion</th>\n",
       "      <th>F2arousal</th>\n",
       "      <th>F3avoid</th>\n",
       "      <th>F3intrus</th>\n",
       "      <th>F3arous</th>\n",
       "      <th>F2Beck</th>\n",
       "      <th>F2STAIS</th>\n",
       "      <th>F3STAIT</th>\n",
       "      <th>F3Beck</th>\n",
       "      <th>F3STAIS</th>\n",
       "      <th>F3STAIT</th>\n",
       "    </tr>\n",
       "  </thead>\n",
       "  <tbody>\n",
       "    <tr>\n",
       "      <th>12</th>\n",
       "      <td>3.0</td>\n",
       "      <td>1.0</td>\n",
       "      <td>1.0</td>\n",
       "      <td>0.0</td>\n",
       "      <td>60.0</td>\n",
       "      <td>5.0</td>\n",
       "      <td>3.0</td>\n",
       "      <td>2.0</td>\n",
       "      <td>1.0</td>\n",
       "      <td>1.0</td>\n",
       "      <td>1.0</td>\n",
       "      <td>5.0</td>\n",
       "      <td>49.0</td>\n",
       "      <td>52.0</td>\n",
       "      <td>22.0</td>\n",
       "      <td>51.0</td>\n",
       "      <td>52.0</td>\n",
       "    </tr>\n",
       "    <tr>\n",
       "      <th>21</th>\n",
       "      <td>3.0</td>\n",
       "      <td>1.0</td>\n",
       "      <td>0.0</td>\n",
       "      <td>0.0</td>\n",
       "      <td>26.0</td>\n",
       "      <td>0.0</td>\n",
       "      <td>5.0</td>\n",
       "      <td>0.0</td>\n",
       "      <td>0.0</td>\n",
       "      <td>0.0</td>\n",
       "      <td>0.0</td>\n",
       "      <td>8.0</td>\n",
       "      <td>48.0</td>\n",
       "      <td>46.0</td>\n",
       "      <td>5.0</td>\n",
       "      <td>44.0</td>\n",
       "      <td>46.0</td>\n",
       "    </tr>\n",
       "    <tr>\n",
       "      <th>22</th>\n",
       "      <td>3.0</td>\n",
       "      <td>1.0</td>\n",
       "      <td>0.0</td>\n",
       "      <td>0.0</td>\n",
       "      <td>22.0</td>\n",
       "      <td>8.0</td>\n",
       "      <td>5.0</td>\n",
       "      <td>1.0</td>\n",
       "      <td>0.0</td>\n",
       "      <td>0.0</td>\n",
       "      <td>0.0</td>\n",
       "      <td>1.0</td>\n",
       "      <td>61.0</td>\n",
       "      <td>43.0</td>\n",
       "      <td>8.0</td>\n",
       "      <td>55.0</td>\n",
       "      <td>43.0</td>\n",
       "    </tr>\n",
       "    <tr>\n",
       "      <th>31</th>\n",
       "      <td>2.0</td>\n",
       "      <td>1.0</td>\n",
       "      <td>0.0</td>\n",
       "      <td>0.0</td>\n",
       "      <td>40.0</td>\n",
       "      <td>2.0</td>\n",
       "      <td>2.0</td>\n",
       "      <td>0.0</td>\n",
       "      <td>0.0</td>\n",
       "      <td>0.0</td>\n",
       "      <td>0.0</td>\n",
       "      <td>4.0</td>\n",
       "      <td>42.0</td>\n",
       "      <td>47.0</td>\n",
       "      <td>8.0</td>\n",
       "      <td>46.0</td>\n",
       "      <td>47.0</td>\n",
       "    </tr>\n",
       "    <tr>\n",
       "      <th>32</th>\n",
       "      <td>3.0</td>\n",
       "      <td>1.0</td>\n",
       "      <td>0.0</td>\n",
       "      <td>0.0</td>\n",
       "      <td>31.0</td>\n",
       "      <td>1.0</td>\n",
       "      <td>2.0</td>\n",
       "      <td>1.0</td>\n",
       "      <td>0.0</td>\n",
       "      <td>0.0</td>\n",
       "      <td>0.0</td>\n",
       "      <td>2.0</td>\n",
       "      <td>51.0</td>\n",
       "      <td>48.0</td>\n",
       "      <td>4.0</td>\n",
       "      <td>42.0</td>\n",
       "      <td>48.0</td>\n",
       "    </tr>\n",
       "    <tr>\n",
       "      <th>33</th>\n",
       "      <td>3.0</td>\n",
       "      <td>0.0</td>\n",
       "      <td>0.0</td>\n",
       "      <td>0.0</td>\n",
       "      <td>33.0</td>\n",
       "      <td>2.0</td>\n",
       "      <td>0.0</td>\n",
       "      <td>0.0</td>\n",
       "      <td>0.0</td>\n",
       "      <td>0.0</td>\n",
       "      <td>0.0</td>\n",
       "      <td>0.0</td>\n",
       "      <td>43.0</td>\n",
       "      <td>41.0</td>\n",
       "      <td>5.0</td>\n",
       "      <td>45.0</td>\n",
       "      <td>41.0</td>\n",
       "    </tr>\n",
       "    <tr>\n",
       "      <th>36</th>\n",
       "      <td>1.0</td>\n",
       "      <td>1.0</td>\n",
       "      <td>1.0</td>\n",
       "      <td>1.0</td>\n",
       "      <td>28.0</td>\n",
       "      <td>3.0</td>\n",
       "      <td>3.0</td>\n",
       "      <td>4.0</td>\n",
       "      <td>0.0</td>\n",
       "      <td>0.0</td>\n",
       "      <td>1.0</td>\n",
       "      <td>7.0</td>\n",
       "      <td>40.0</td>\n",
       "      <td>48.0</td>\n",
       "      <td>10.0</td>\n",
       "      <td>47.0</td>\n",
       "      <td>48.0</td>\n",
       "    </tr>\n",
       "    <tr>\n",
       "      <th>58</th>\n",
       "      <td>2.0</td>\n",
       "      <td>1.0</td>\n",
       "      <td>0.0</td>\n",
       "      <td>1.0</td>\n",
       "      <td>39.0</td>\n",
       "      <td>4.0</td>\n",
       "      <td>5.0</td>\n",
       "      <td>1.0</td>\n",
       "      <td>0.0</td>\n",
       "      <td>0.0</td>\n",
       "      <td>1.0</td>\n",
       "      <td>6.0</td>\n",
       "      <td>46.0</td>\n",
       "      <td>46.0</td>\n",
       "      <td>7.0</td>\n",
       "      <td>47.0</td>\n",
       "      <td>46.0</td>\n",
       "    </tr>\n",
       "    <tr>\n",
       "      <th>62</th>\n",
       "      <td>1.0</td>\n",
       "      <td>0.0</td>\n",
       "      <td>0.0</td>\n",
       "      <td>1.0</td>\n",
       "      <td>29.0</td>\n",
       "      <td>1.0</td>\n",
       "      <td>0.0</td>\n",
       "      <td>0.0</td>\n",
       "      <td>0.0</td>\n",
       "      <td>1.0</td>\n",
       "      <td>0.0</td>\n",
       "      <td>3.0</td>\n",
       "      <td>49.0</td>\n",
       "      <td>45.0</td>\n",
       "      <td>1.0</td>\n",
       "      <td>41.0</td>\n",
       "      <td>45.0</td>\n",
       "    </tr>\n",
       "    <tr>\n",
       "      <th>70</th>\n",
       "      <td>2.0</td>\n",
       "      <td>0.0</td>\n",
       "      <td>0.0</td>\n",
       "      <td>0.0</td>\n",
       "      <td>35.0</td>\n",
       "      <td>1.0</td>\n",
       "      <td>0.0</td>\n",
       "      <td>0.0</td>\n",
       "      <td>0.0</td>\n",
       "      <td>0.0</td>\n",
       "      <td>0.0</td>\n",
       "      <td>4.0</td>\n",
       "      <td>43.0</td>\n",
       "      <td>49.0</td>\n",
       "      <td>7.0</td>\n",
       "      <td>47.0</td>\n",
       "      <td>49.0</td>\n",
       "    </tr>\n",
       "  </tbody>\n",
       "</table>\n",
       "</div>"
      ],
      "text/plain": [
       "    F1PartoId  F2PTSDpart  F2PTSDcomp  F3PTSDpart  F3Tptsd  F2avoid  \\\n",
       "12        3.0         1.0         1.0         0.0     60.0      5.0   \n",
       "21        3.0         1.0         0.0         0.0     26.0      0.0   \n",
       "22        3.0         1.0         0.0         0.0     22.0      8.0   \n",
       "31        2.0         1.0         0.0         0.0     40.0      2.0   \n",
       "32        3.0         1.0         0.0         0.0     31.0      1.0   \n",
       "33        3.0         0.0         0.0         0.0     33.0      2.0   \n",
       "36        1.0         1.0         1.0         1.0     28.0      3.0   \n",
       "58        2.0         1.0         0.0         1.0     39.0      4.0   \n",
       "62        1.0         0.0         0.0         1.0     29.0      1.0   \n",
       "70        2.0         0.0         0.0         0.0     35.0      1.0   \n",
       "\n",
       "    F2intrusion  F2arousal  F3avoid  F3intrus  F3arous  F2Beck  F2STAIS  \\\n",
       "12          3.0        2.0      1.0       1.0      1.0     5.0     49.0   \n",
       "21          5.0        0.0      0.0       0.0      0.0     8.0     48.0   \n",
       "22          5.0        1.0      0.0       0.0      0.0     1.0     61.0   \n",
       "31          2.0        0.0      0.0       0.0      0.0     4.0     42.0   \n",
       "32          2.0        1.0      0.0       0.0      0.0     2.0     51.0   \n",
       "33          0.0        0.0      0.0       0.0      0.0     0.0     43.0   \n",
       "36          3.0        4.0      0.0       0.0      1.0     7.0     40.0   \n",
       "58          5.0        1.0      0.0       0.0      1.0     6.0     46.0   \n",
       "62          0.0        0.0      0.0       1.0      0.0     3.0     49.0   \n",
       "70          0.0        0.0      0.0       0.0      0.0     4.0     43.0   \n",
       "\n",
       "    F3STAIT  F3Beck  F3STAIS  F3STAIT  \n",
       "12     52.0    22.0     51.0     52.0  \n",
       "21     46.0     5.0     44.0     46.0  \n",
       "22     43.0     8.0     55.0     43.0  \n",
       "31     47.0     8.0     46.0     47.0  \n",
       "32     48.0     4.0     42.0     48.0  \n",
       "33     41.0     5.0     45.0     41.0  \n",
       "36     48.0    10.0     47.0     48.0  \n",
       "58     46.0     7.0     47.0     46.0  \n",
       "62     45.0     1.0     41.0     45.0  \n",
       "70     49.0     7.0     47.0     49.0  "
      ]
     },
     "execution_count": 420,
     "metadata": {},
     "output_type": "execute_result"
    }
   ],
   "source": [
    "# Partoid codificato con valori da 1 a 6 \n",
    "\n",
    "data16=data[['F1PartoId','F2PTSDpart','F2PTSDcomp','F3PTSDpart','F3Tptsd','F2avoid',\n",
    "            'F2intrusion','F2arousal','F3avoid','F3intrus','F3arous','F2Beck','F2STAIS',\n",
    "            'F3STAIT','F3Beck','F3STAIS','F3STAIT']]\n",
    "data16.dropna()"
   ]
  },
  {
   "cell_type": "code",
   "execution_count": 421,
   "metadata": {},
   "outputs": [
    {
     "data": {
      "text/html": [
       "<div>\n",
       "<style scoped>\n",
       "    .dataframe tbody tr th:only-of-type {\n",
       "        vertical-align: middle;\n",
       "    }\n",
       "\n",
       "    .dataframe tbody tr th {\n",
       "        vertical-align: top;\n",
       "    }\n",
       "\n",
       "    .dataframe thead th {\n",
       "        text-align: right;\n",
       "    }\n",
       "</style>\n",
       "<table border=\"1\" class=\"dataframe\">\n",
       "  <thead>\n",
       "    <tr style=\"text-align: right;\">\n",
       "      <th></th>\n",
       "      <th>F2PTSDpart</th>\n",
       "      <th>F2PTSDcomp</th>\n",
       "      <th>F3PTSDpart</th>\n",
       "      <th>F3Tptsd</th>\n",
       "      <th>F2avoid</th>\n",
       "      <th>F2intrusion</th>\n",
       "      <th>F2arousal</th>\n",
       "      <th>F3avoid</th>\n",
       "      <th>F3intrus</th>\n",
       "      <th>F3arous</th>\n",
       "      <th>...</th>\n",
       "      <th>F3STAIT</th>\n",
       "      <th>F3Beck</th>\n",
       "      <th>F3STAIS</th>\n",
       "      <th>F3STAIT</th>\n",
       "      <th>F1PartoId_1.0</th>\n",
       "      <th>F1PartoId_2.0</th>\n",
       "      <th>F1PartoId_3.0</th>\n",
       "      <th>F1PartoId_4.0</th>\n",
       "      <th>F1PartoId_5.0</th>\n",
       "      <th>F1PartoId_6.0</th>\n",
       "    </tr>\n",
       "  </thead>\n",
       "  <tbody>\n",
       "    <tr>\n",
       "      <th>F2PTSDpart</th>\n",
       "      <td>1.000</td>\n",
       "      <td>0.134</td>\n",
       "      <td>-0.014</td>\n",
       "      <td>0.047</td>\n",
       "      <td>0.189</td>\n",
       "      <td>0.593</td>\n",
       "      <td>0.315</td>\n",
       "      <td>0.070</td>\n",
       "      <td>-0.024</td>\n",
       "      <td>0.054</td>\n",
       "      <td>...</td>\n",
       "      <td>0.033</td>\n",
       "      <td>0.139</td>\n",
       "      <td>-0.074</td>\n",
       "      <td>0.033</td>\n",
       "      <td>-0.052</td>\n",
       "      <td>-0.045</td>\n",
       "      <td>0.053</td>\n",
       "      <td>0.006</td>\n",
       "      <td>0.046</td>\n",
       "      <td>0.032</td>\n",
       "    </tr>\n",
       "    <tr>\n",
       "      <th>F2PTSDcomp</th>\n",
       "      <td>0.134</td>\n",
       "      <td>1.000</td>\n",
       "      <td>0.079</td>\n",
       "      <td>0.135</td>\n",
       "      <td>0.540</td>\n",
       "      <td>0.313</td>\n",
       "      <td>0.559</td>\n",
       "      <td>0.436</td>\n",
       "      <td>0.321</td>\n",
       "      <td>0.105</td>\n",
       "      <td>...</td>\n",
       "      <td>0.246</td>\n",
       "      <td>0.256</td>\n",
       "      <td>-0.007</td>\n",
       "      <td>0.246</td>\n",
       "      <td>0.029</td>\n",
       "      <td>-0.004</td>\n",
       "      <td>0.042</td>\n",
       "      <td>-0.036</td>\n",
       "      <td>-0.020</td>\n",
       "      <td>-0.014</td>\n",
       "    </tr>\n",
       "    <tr>\n",
       "      <th>F3PTSDpart</th>\n",
       "      <td>-0.014</td>\n",
       "      <td>0.079</td>\n",
       "      <td>1.000</td>\n",
       "      <td>0.610</td>\n",
       "      <td>0.177</td>\n",
       "      <td>-0.034</td>\n",
       "      <td>0.229</td>\n",
       "      <td>-0.066</td>\n",
       "      <td>0.349</td>\n",
       "      <td>0.848</td>\n",
       "      <td>...</td>\n",
       "      <td>-0.063</td>\n",
       "      <td>0.260</td>\n",
       "      <td>-0.062</td>\n",
       "      <td>-0.063</td>\n",
       "      <td>0.171</td>\n",
       "      <td>0.027</td>\n",
       "      <td>-0.152</td>\n",
       "      <td>0.179</td>\n",
       "      <td>NaN</td>\n",
       "      <td>NaN</td>\n",
       "    </tr>\n",
       "    <tr>\n",
       "      <th>F3Tptsd</th>\n",
       "      <td>0.047</td>\n",
       "      <td>0.135</td>\n",
       "      <td>0.610</td>\n",
       "      <td>1.000</td>\n",
       "      <td>0.298</td>\n",
       "      <td>-0.015</td>\n",
       "      <td>0.128</td>\n",
       "      <td>0.372</td>\n",
       "      <td>0.442</td>\n",
       "      <td>0.635</td>\n",
       "      <td>...</td>\n",
       "      <td>0.174</td>\n",
       "      <td>0.528</td>\n",
       "      <td>-0.064</td>\n",
       "      <td>0.174</td>\n",
       "      <td>0.031</td>\n",
       "      <td>0.192</td>\n",
       "      <td>0.152</td>\n",
       "      <td>0.145</td>\n",
       "      <td>NaN</td>\n",
       "      <td>NaN</td>\n",
       "    </tr>\n",
       "    <tr>\n",
       "      <th>F2avoid</th>\n",
       "      <td>0.189</td>\n",
       "      <td>0.540</td>\n",
       "      <td>0.177</td>\n",
       "      <td>0.298</td>\n",
       "      <td>1.000</td>\n",
       "      <td>0.354</td>\n",
       "      <td>0.393</td>\n",
       "      <td>0.266</td>\n",
       "      <td>0.423</td>\n",
       "      <td>0.133</td>\n",
       "      <td>...</td>\n",
       "      <td>0.217</td>\n",
       "      <td>0.234</td>\n",
       "      <td>0.060</td>\n",
       "      <td>0.217</td>\n",
       "      <td>0.083</td>\n",
       "      <td>0.042</td>\n",
       "      <td>0.127</td>\n",
       "      <td>-0.010</td>\n",
       "      <td>0.111</td>\n",
       "      <td>-0.036</td>\n",
       "    </tr>\n",
       "    <tr>\n",
       "      <th>F2intrusion</th>\n",
       "      <td>0.593</td>\n",
       "      <td>0.313</td>\n",
       "      <td>-0.034</td>\n",
       "      <td>-0.015</td>\n",
       "      <td>0.354</td>\n",
       "      <td>1.000</td>\n",
       "      <td>0.518</td>\n",
       "      <td>0.079</td>\n",
       "      <td>0.171</td>\n",
       "      <td>-0.095</td>\n",
       "      <td>...</td>\n",
       "      <td>0.038</td>\n",
       "      <td>0.026</td>\n",
       "      <td>-0.048</td>\n",
       "      <td>0.038</td>\n",
       "      <td>-0.038</td>\n",
       "      <td>-0.075</td>\n",
       "      <td>0.003</td>\n",
       "      <td>0.118</td>\n",
       "      <td>-0.017</td>\n",
       "      <td>0.002</td>\n",
       "    </tr>\n",
       "    <tr>\n",
       "      <th>F2arousal</th>\n",
       "      <td>0.315</td>\n",
       "      <td>0.559</td>\n",
       "      <td>0.229</td>\n",
       "      <td>0.128</td>\n",
       "      <td>0.393</td>\n",
       "      <td>0.518</td>\n",
       "      <td>1.000</td>\n",
       "      <td>0.134</td>\n",
       "      <td>0.380</td>\n",
       "      <td>0.061</td>\n",
       "      <td>...</td>\n",
       "      <td>0.188</td>\n",
       "      <td>0.133</td>\n",
       "      <td>-0.021</td>\n",
       "      <td>0.188</td>\n",
       "      <td>0.010</td>\n",
       "      <td>-0.042</td>\n",
       "      <td>-0.014</td>\n",
       "      <td>0.037</td>\n",
       "      <td>-0.050</td>\n",
       "      <td>0.158</td>\n",
       "    </tr>\n",
       "    <tr>\n",
       "      <th>F3avoid</th>\n",
       "      <td>0.070</td>\n",
       "      <td>0.436</td>\n",
       "      <td>-0.066</td>\n",
       "      <td>0.372</td>\n",
       "      <td>0.266</td>\n",
       "      <td>0.079</td>\n",
       "      <td>0.134</td>\n",
       "      <td>1.000</td>\n",
       "      <td>0.396</td>\n",
       "      <td>0.197</td>\n",
       "      <td>...</td>\n",
       "      <td>0.225</td>\n",
       "      <td>0.421</td>\n",
       "      <td>0.062</td>\n",
       "      <td>0.225</td>\n",
       "      <td>-0.021</td>\n",
       "      <td>-0.021</td>\n",
       "      <td>0.436</td>\n",
       "      <td>-0.012</td>\n",
       "      <td>NaN</td>\n",
       "      <td>NaN</td>\n",
       "    </tr>\n",
       "    <tr>\n",
       "      <th>F3intrus</th>\n",
       "      <td>-0.024</td>\n",
       "      <td>0.321</td>\n",
       "      <td>0.349</td>\n",
       "      <td>0.442</td>\n",
       "      <td>0.423</td>\n",
       "      <td>0.171</td>\n",
       "      <td>0.380</td>\n",
       "      <td>0.396</td>\n",
       "      <td>1.000</td>\n",
       "      <td>0.064</td>\n",
       "      <td>...</td>\n",
       "      <td>0.247</td>\n",
       "      <td>0.261</td>\n",
       "      <td>0.001</td>\n",
       "      <td>0.247</td>\n",
       "      <td>0.196</td>\n",
       "      <td>-0.053</td>\n",
       "      <td>0.126</td>\n",
       "      <td>-0.030</td>\n",
       "      <td>NaN</td>\n",
       "      <td>NaN</td>\n",
       "    </tr>\n",
       "    <tr>\n",
       "      <th>F3arous</th>\n",
       "      <td>0.054</td>\n",
       "      <td>0.105</td>\n",
       "      <td>0.848</td>\n",
       "      <td>0.635</td>\n",
       "      <td>0.133</td>\n",
       "      <td>-0.095</td>\n",
       "      <td>0.061</td>\n",
       "      <td>0.197</td>\n",
       "      <td>0.064</td>\n",
       "      <td>1.000</td>\n",
       "      <td>...</td>\n",
       "      <td>-0.065</td>\n",
       "      <td>0.358</td>\n",
       "      <td>-0.045</td>\n",
       "      <td>-0.065</td>\n",
       "      <td>0.044</td>\n",
       "      <td>0.044</td>\n",
       "      <td>-0.021</td>\n",
       "      <td>0.197</td>\n",
       "      <td>NaN</td>\n",
       "      <td>NaN</td>\n",
       "    </tr>\n",
       "    <tr>\n",
       "      <th>F2Beck</th>\n",
       "      <td>0.168</td>\n",
       "      <td>0.293</td>\n",
       "      <td>0.254</td>\n",
       "      <td>0.281</td>\n",
       "      <td>0.266</td>\n",
       "      <td>0.242</td>\n",
       "      <td>0.327</td>\n",
       "      <td>0.021</td>\n",
       "      <td>0.264</td>\n",
       "      <td>0.151</td>\n",
       "      <td>...</td>\n",
       "      <td>0.081</td>\n",
       "      <td>0.490</td>\n",
       "      <td>0.027</td>\n",
       "      <td>0.081</td>\n",
       "      <td>0.045</td>\n",
       "      <td>-0.036</td>\n",
       "      <td>-0.034</td>\n",
       "      <td>-0.005</td>\n",
       "      <td>-0.043</td>\n",
       "      <td>-0.056</td>\n",
       "    </tr>\n",
       "    <tr>\n",
       "      <th>F2STAIS</th>\n",
       "      <td>0.090</td>\n",
       "      <td>-0.021</td>\n",
       "      <td>0.027</td>\n",
       "      <td>0.019</td>\n",
       "      <td>0.159</td>\n",
       "      <td>0.155</td>\n",
       "      <td>0.022</td>\n",
       "      <td>0.076</td>\n",
       "      <td>0.087</td>\n",
       "      <td>0.028</td>\n",
       "      <td>...</td>\n",
       "      <td>0.080</td>\n",
       "      <td>0.103</td>\n",
       "      <td>0.016</td>\n",
       "      <td>0.080</td>\n",
       "      <td>0.068</td>\n",
       "      <td>-0.025</td>\n",
       "      <td>0.094</td>\n",
       "      <td>0.089</td>\n",
       "      <td>-0.063</td>\n",
       "      <td>0.051</td>\n",
       "    </tr>\n",
       "    <tr>\n",
       "      <th>F3STAIT</th>\n",
       "      <td>0.033</td>\n",
       "      <td>0.246</td>\n",
       "      <td>-0.063</td>\n",
       "      <td>0.174</td>\n",
       "      <td>0.217</td>\n",
       "      <td>0.038</td>\n",
       "      <td>0.188</td>\n",
       "      <td>0.225</td>\n",
       "      <td>0.247</td>\n",
       "      <td>-0.065</td>\n",
       "      <td>...</td>\n",
       "      <td>1.000</td>\n",
       "      <td>0.036</td>\n",
       "      <td>0.236</td>\n",
       "      <td>1.000</td>\n",
       "      <td>0.093</td>\n",
       "      <td>0.156</td>\n",
       "      <td>0.119</td>\n",
       "      <td>-0.170</td>\n",
       "      <td>NaN</td>\n",
       "      <td>NaN</td>\n",
       "    </tr>\n",
       "    <tr>\n",
       "      <th>F3Beck</th>\n",
       "      <td>0.139</td>\n",
       "      <td>0.256</td>\n",
       "      <td>0.260</td>\n",
       "      <td>0.528</td>\n",
       "      <td>0.234</td>\n",
       "      <td>0.026</td>\n",
       "      <td>0.133</td>\n",
       "      <td>0.421</td>\n",
       "      <td>0.261</td>\n",
       "      <td>0.358</td>\n",
       "      <td>...</td>\n",
       "      <td>0.036</td>\n",
       "      <td>1.000</td>\n",
       "      <td>-0.034</td>\n",
       "      <td>0.036</td>\n",
       "      <td>-0.031</td>\n",
       "      <td>0.074</td>\n",
       "      <td>0.183</td>\n",
       "      <td>0.162</td>\n",
       "      <td>NaN</td>\n",
       "      <td>NaN</td>\n",
       "    </tr>\n",
       "    <tr>\n",
       "      <th>F3STAIS</th>\n",
       "      <td>-0.074</td>\n",
       "      <td>-0.007</td>\n",
       "      <td>-0.062</td>\n",
       "      <td>-0.064</td>\n",
       "      <td>0.060</td>\n",
       "      <td>-0.048</td>\n",
       "      <td>-0.021</td>\n",
       "      <td>0.062</td>\n",
       "      <td>0.001</td>\n",
       "      <td>-0.045</td>\n",
       "      <td>...</td>\n",
       "      <td>0.236</td>\n",
       "      <td>-0.034</td>\n",
       "      <td>1.000</td>\n",
       "      <td>0.236</td>\n",
       "      <td>-0.043</td>\n",
       "      <td>0.008</td>\n",
       "      <td>0.033</td>\n",
       "      <td>-0.083</td>\n",
       "      <td>NaN</td>\n",
       "      <td>NaN</td>\n",
       "    </tr>\n",
       "    <tr>\n",
       "      <th>F3STAIT</th>\n",
       "      <td>0.033</td>\n",
       "      <td>0.246</td>\n",
       "      <td>-0.063</td>\n",
       "      <td>0.174</td>\n",
       "      <td>0.217</td>\n",
       "      <td>0.038</td>\n",
       "      <td>0.188</td>\n",
       "      <td>0.225</td>\n",
       "      <td>0.247</td>\n",
       "      <td>-0.065</td>\n",
       "      <td>...</td>\n",
       "      <td>1.000</td>\n",
       "      <td>0.036</td>\n",
       "      <td>0.236</td>\n",
       "      <td>1.000</td>\n",
       "      <td>0.093</td>\n",
       "      <td>0.156</td>\n",
       "      <td>0.119</td>\n",
       "      <td>-0.170</td>\n",
       "      <td>NaN</td>\n",
       "      <td>NaN</td>\n",
       "    </tr>\n",
       "    <tr>\n",
       "      <th>F1PartoId_1.0</th>\n",
       "      <td>-0.052</td>\n",
       "      <td>0.029</td>\n",
       "      <td>0.171</td>\n",
       "      <td>0.031</td>\n",
       "      <td>0.083</td>\n",
       "      <td>-0.038</td>\n",
       "      <td>0.010</td>\n",
       "      <td>-0.021</td>\n",
       "      <td>0.196</td>\n",
       "      <td>0.044</td>\n",
       "      <td>...</td>\n",
       "      <td>0.093</td>\n",
       "      <td>-0.031</td>\n",
       "      <td>-0.043</td>\n",
       "      <td>0.093</td>\n",
       "      <td>1.000</td>\n",
       "      <td>-0.039</td>\n",
       "      <td>-0.040</td>\n",
       "      <td>-0.026</td>\n",
       "      <td>-0.013</td>\n",
       "      <td>-0.009</td>\n",
       "    </tr>\n",
       "    <tr>\n",
       "      <th>F1PartoId_2.0</th>\n",
       "      <td>-0.045</td>\n",
       "      <td>-0.004</td>\n",
       "      <td>0.027</td>\n",
       "      <td>0.192</td>\n",
       "      <td>0.042</td>\n",
       "      <td>-0.075</td>\n",
       "      <td>-0.042</td>\n",
       "      <td>-0.021</td>\n",
       "      <td>-0.053</td>\n",
       "      <td>0.044</td>\n",
       "      <td>...</td>\n",
       "      <td>0.156</td>\n",
       "      <td>0.074</td>\n",
       "      <td>0.008</td>\n",
       "      <td>0.156</td>\n",
       "      <td>-0.039</td>\n",
       "      <td>1.000</td>\n",
       "      <td>-0.052</td>\n",
       "      <td>-0.034</td>\n",
       "      <td>-0.017</td>\n",
       "      <td>-0.012</td>\n",
       "    </tr>\n",
       "    <tr>\n",
       "      <th>F1PartoId_3.0</th>\n",
       "      <td>0.053</td>\n",
       "      <td>0.042</td>\n",
       "      <td>-0.152</td>\n",
       "      <td>0.152</td>\n",
       "      <td>0.127</td>\n",
       "      <td>0.003</td>\n",
       "      <td>-0.014</td>\n",
       "      <td>0.436</td>\n",
       "      <td>0.126</td>\n",
       "      <td>-0.021</td>\n",
       "      <td>...</td>\n",
       "      <td>0.119</td>\n",
       "      <td>0.183</td>\n",
       "      <td>0.033</td>\n",
       "      <td>0.119</td>\n",
       "      <td>-0.040</td>\n",
       "      <td>-0.052</td>\n",
       "      <td>1.000</td>\n",
       "      <td>-0.036</td>\n",
       "      <td>-0.018</td>\n",
       "      <td>-0.012</td>\n",
       "    </tr>\n",
       "    <tr>\n",
       "      <th>F1PartoId_4.0</th>\n",
       "      <td>0.006</td>\n",
       "      <td>-0.036</td>\n",
       "      <td>0.179</td>\n",
       "      <td>0.145</td>\n",
       "      <td>-0.010</td>\n",
       "      <td>0.118</td>\n",
       "      <td>0.037</td>\n",
       "      <td>-0.012</td>\n",
       "      <td>-0.030</td>\n",
       "      <td>0.197</td>\n",
       "      <td>...</td>\n",
       "      <td>-0.170</td>\n",
       "      <td>0.162</td>\n",
       "      <td>-0.083</td>\n",
       "      <td>-0.170</td>\n",
       "      <td>-0.026</td>\n",
       "      <td>-0.034</td>\n",
       "      <td>-0.036</td>\n",
       "      <td>1.000</td>\n",
       "      <td>-0.012</td>\n",
       "      <td>-0.008</td>\n",
       "    </tr>\n",
       "    <tr>\n",
       "      <th>F1PartoId_5.0</th>\n",
       "      <td>0.046</td>\n",
       "      <td>-0.020</td>\n",
       "      <td>NaN</td>\n",
       "      <td>NaN</td>\n",
       "      <td>0.111</td>\n",
       "      <td>-0.017</td>\n",
       "      <td>-0.050</td>\n",
       "      <td>NaN</td>\n",
       "      <td>NaN</td>\n",
       "      <td>NaN</td>\n",
       "      <td>...</td>\n",
       "      <td>NaN</td>\n",
       "      <td>NaN</td>\n",
       "      <td>NaN</td>\n",
       "      <td>NaN</td>\n",
       "      <td>-0.013</td>\n",
       "      <td>-0.017</td>\n",
       "      <td>-0.018</td>\n",
       "      <td>-0.012</td>\n",
       "      <td>1.000</td>\n",
       "      <td>-0.004</td>\n",
       "    </tr>\n",
       "    <tr>\n",
       "      <th>F1PartoId_6.0</th>\n",
       "      <td>0.032</td>\n",
       "      <td>-0.014</td>\n",
       "      <td>NaN</td>\n",
       "      <td>NaN</td>\n",
       "      <td>-0.036</td>\n",
       "      <td>0.002</td>\n",
       "      <td>0.158</td>\n",
       "      <td>NaN</td>\n",
       "      <td>NaN</td>\n",
       "      <td>NaN</td>\n",
       "      <td>...</td>\n",
       "      <td>NaN</td>\n",
       "      <td>NaN</td>\n",
       "      <td>NaN</td>\n",
       "      <td>NaN</td>\n",
       "      <td>-0.009</td>\n",
       "      <td>-0.012</td>\n",
       "      <td>-0.012</td>\n",
       "      <td>-0.008</td>\n",
       "      <td>-0.004</td>\n",
       "      <td>1.000</td>\n",
       "    </tr>\n",
       "  </tbody>\n",
       "</table>\n",
       "<p>22 rows × 22 columns</p>\n",
       "</div>"
      ],
      "text/plain": [
       "               F2PTSDpart  F2PTSDcomp  F3PTSDpart  F3Tptsd  F2avoid  \\\n",
       "F2PTSDpart          1.000       0.134      -0.014    0.047    0.189   \n",
       "F2PTSDcomp          0.134       1.000       0.079    0.135    0.540   \n",
       "F3PTSDpart         -0.014       0.079       1.000    0.610    0.177   \n",
       "F3Tptsd             0.047       0.135       0.610    1.000    0.298   \n",
       "F2avoid             0.189       0.540       0.177    0.298    1.000   \n",
       "F2intrusion         0.593       0.313      -0.034   -0.015    0.354   \n",
       "F2arousal           0.315       0.559       0.229    0.128    0.393   \n",
       "F3avoid             0.070       0.436      -0.066    0.372    0.266   \n",
       "F3intrus           -0.024       0.321       0.349    0.442    0.423   \n",
       "F3arous             0.054       0.105       0.848    0.635    0.133   \n",
       "F2Beck              0.168       0.293       0.254    0.281    0.266   \n",
       "F2STAIS             0.090      -0.021       0.027    0.019    0.159   \n",
       "F3STAIT             0.033       0.246      -0.063    0.174    0.217   \n",
       "F3Beck              0.139       0.256       0.260    0.528    0.234   \n",
       "F3STAIS            -0.074      -0.007      -0.062   -0.064    0.060   \n",
       "F3STAIT             0.033       0.246      -0.063    0.174    0.217   \n",
       "F1PartoId_1.0      -0.052       0.029       0.171    0.031    0.083   \n",
       "F1PartoId_2.0      -0.045      -0.004       0.027    0.192    0.042   \n",
       "F1PartoId_3.0       0.053       0.042      -0.152    0.152    0.127   \n",
       "F1PartoId_4.0       0.006      -0.036       0.179    0.145   -0.010   \n",
       "F1PartoId_5.0       0.046      -0.020         NaN      NaN    0.111   \n",
       "F1PartoId_6.0       0.032      -0.014         NaN      NaN   -0.036   \n",
       "\n",
       "               F2intrusion  F2arousal  F3avoid  F3intrus  F3arous  \\\n",
       "F2PTSDpart           0.593      0.315    0.070    -0.024    0.054   \n",
       "F2PTSDcomp           0.313      0.559    0.436     0.321    0.105   \n",
       "F3PTSDpart          -0.034      0.229   -0.066     0.349    0.848   \n",
       "F3Tptsd             -0.015      0.128    0.372     0.442    0.635   \n",
       "F2avoid              0.354      0.393    0.266     0.423    0.133   \n",
       "F2intrusion          1.000      0.518    0.079     0.171   -0.095   \n",
       "F2arousal            0.518      1.000    0.134     0.380    0.061   \n",
       "F3avoid              0.079      0.134    1.000     0.396    0.197   \n",
       "F3intrus             0.171      0.380    0.396     1.000    0.064   \n",
       "F3arous             -0.095      0.061    0.197     0.064    1.000   \n",
       "F2Beck               0.242      0.327    0.021     0.264    0.151   \n",
       "F2STAIS              0.155      0.022    0.076     0.087    0.028   \n",
       "F3STAIT              0.038      0.188    0.225     0.247   -0.065   \n",
       "F3Beck               0.026      0.133    0.421     0.261    0.358   \n",
       "F3STAIS             -0.048     -0.021    0.062     0.001   -0.045   \n",
       "F3STAIT              0.038      0.188    0.225     0.247   -0.065   \n",
       "F1PartoId_1.0       -0.038      0.010   -0.021     0.196    0.044   \n",
       "F1PartoId_2.0       -0.075     -0.042   -0.021    -0.053    0.044   \n",
       "F1PartoId_3.0        0.003     -0.014    0.436     0.126   -0.021   \n",
       "F1PartoId_4.0        0.118      0.037   -0.012    -0.030    0.197   \n",
       "F1PartoId_5.0       -0.017     -0.050      NaN       NaN      NaN   \n",
       "F1PartoId_6.0        0.002      0.158      NaN       NaN      NaN   \n",
       "\n",
       "                   ...        F3STAIT  F3Beck  F3STAIS  F3STAIT  \\\n",
       "F2PTSDpart         ...          0.033   0.139   -0.074    0.033   \n",
       "F2PTSDcomp         ...          0.246   0.256   -0.007    0.246   \n",
       "F3PTSDpart         ...         -0.063   0.260   -0.062   -0.063   \n",
       "F3Tptsd            ...          0.174   0.528   -0.064    0.174   \n",
       "F2avoid            ...          0.217   0.234    0.060    0.217   \n",
       "F2intrusion        ...          0.038   0.026   -0.048    0.038   \n",
       "F2arousal          ...          0.188   0.133   -0.021    0.188   \n",
       "F3avoid            ...          0.225   0.421    0.062    0.225   \n",
       "F3intrus           ...          0.247   0.261    0.001    0.247   \n",
       "F3arous            ...         -0.065   0.358   -0.045   -0.065   \n",
       "F2Beck             ...          0.081   0.490    0.027    0.081   \n",
       "F2STAIS            ...          0.080   0.103    0.016    0.080   \n",
       "F3STAIT            ...          1.000   0.036    0.236    1.000   \n",
       "F3Beck             ...          0.036   1.000   -0.034    0.036   \n",
       "F3STAIS            ...          0.236  -0.034    1.000    0.236   \n",
       "F3STAIT            ...          1.000   0.036    0.236    1.000   \n",
       "F1PartoId_1.0      ...          0.093  -0.031   -0.043    0.093   \n",
       "F1PartoId_2.0      ...          0.156   0.074    0.008    0.156   \n",
       "F1PartoId_3.0      ...          0.119   0.183    0.033    0.119   \n",
       "F1PartoId_4.0      ...         -0.170   0.162   -0.083   -0.170   \n",
       "F1PartoId_5.0      ...            NaN     NaN      NaN      NaN   \n",
       "F1PartoId_6.0      ...            NaN     NaN      NaN      NaN   \n",
       "\n",
       "               F1PartoId_1.0  F1PartoId_2.0  F1PartoId_3.0  F1PartoId_4.0  \\\n",
       "F2PTSDpart            -0.052         -0.045          0.053          0.006   \n",
       "F2PTSDcomp             0.029         -0.004          0.042         -0.036   \n",
       "F3PTSDpart             0.171          0.027         -0.152          0.179   \n",
       "F3Tptsd                0.031          0.192          0.152          0.145   \n",
       "F2avoid                0.083          0.042          0.127         -0.010   \n",
       "F2intrusion           -0.038         -0.075          0.003          0.118   \n",
       "F2arousal              0.010         -0.042         -0.014          0.037   \n",
       "F3avoid               -0.021         -0.021          0.436         -0.012   \n",
       "F3intrus               0.196         -0.053          0.126         -0.030   \n",
       "F3arous                0.044          0.044         -0.021          0.197   \n",
       "F2Beck                 0.045         -0.036         -0.034         -0.005   \n",
       "F2STAIS                0.068         -0.025          0.094          0.089   \n",
       "F3STAIT                0.093          0.156          0.119         -0.170   \n",
       "F3Beck                -0.031          0.074          0.183          0.162   \n",
       "F3STAIS               -0.043          0.008          0.033         -0.083   \n",
       "F3STAIT                0.093          0.156          0.119         -0.170   \n",
       "F1PartoId_1.0          1.000         -0.039         -0.040         -0.026   \n",
       "F1PartoId_2.0         -0.039          1.000         -0.052         -0.034   \n",
       "F1PartoId_3.0         -0.040         -0.052          1.000         -0.036   \n",
       "F1PartoId_4.0         -0.026         -0.034         -0.036          1.000   \n",
       "F1PartoId_5.0         -0.013         -0.017         -0.018         -0.012   \n",
       "F1PartoId_6.0         -0.009         -0.012         -0.012         -0.008   \n",
       "\n",
       "               F1PartoId_5.0  F1PartoId_6.0  \n",
       "F2PTSDpart             0.046          0.032  \n",
       "F2PTSDcomp            -0.020         -0.014  \n",
       "F3PTSDpart               NaN            NaN  \n",
       "F3Tptsd                  NaN            NaN  \n",
       "F2avoid                0.111         -0.036  \n",
       "F2intrusion           -0.017          0.002  \n",
       "F2arousal             -0.050          0.158  \n",
       "F3avoid                  NaN            NaN  \n",
       "F3intrus                 NaN            NaN  \n",
       "F3arous                  NaN            NaN  \n",
       "F2Beck                -0.043         -0.056  \n",
       "F2STAIS               -0.063          0.051  \n",
       "F3STAIT                  NaN            NaN  \n",
       "F3Beck                   NaN            NaN  \n",
       "F3STAIS                  NaN            NaN  \n",
       "F3STAIT                  NaN            NaN  \n",
       "F1PartoId_1.0         -0.013         -0.009  \n",
       "F1PartoId_2.0         -0.017         -0.012  \n",
       "F1PartoId_3.0         -0.018         -0.012  \n",
       "F1PartoId_4.0         -0.012         -0.008  \n",
       "F1PartoId_5.0          1.000         -0.004  \n",
       "F1PartoId_6.0         -0.004          1.000  \n",
       "\n",
       "[22 rows x 22 columns]"
      ]
     },
     "execution_count": 421,
     "metadata": {},
     "output_type": "execute_result"
    }
   ],
   "source": [
    "data16 = pd.get_dummies(data16, columns=['F1PartoId'])\n",
    "round(data16.corr(), 3) "
   ]
  },
  {
   "cell_type": "markdown",
   "metadata": {},
   "source": [
    "Conteggi e statistiche descrittive per: peso medio, apgar1, apgar5 e correlazione con f2ptsd, f3ptsd "
   ]
  },
  {
   "cell_type": "code",
   "execution_count": 432,
   "metadata": {},
   "outputs": [
    {
     "data": {
      "text/html": [
       "<div>\n",
       "<style scoped>\n",
       "    .dataframe tbody tr th:only-of-type {\n",
       "        vertical-align: middle;\n",
       "    }\n",
       "\n",
       "    .dataframe tbody tr th {\n",
       "        vertical-align: top;\n",
       "    }\n",
       "\n",
       "    .dataframe thead th {\n",
       "        text-align: right;\n",
       "    }\n",
       "</style>\n",
       "<table border=\"1\" class=\"dataframe\">\n",
       "  <thead>\n",
       "    <tr style=\"text-align: right;\">\n",
       "      <th></th>\n",
       "      <th>peso</th>\n",
       "      <th>apgar 1</th>\n",
       "      <th>apgar 5</th>\n",
       "      <th>F2Tptsd</th>\n",
       "      <th>F3Tptsd</th>\n",
       "    </tr>\n",
       "  </thead>\n",
       "  <tbody>\n",
       "    <tr>\n",
       "      <th>count</th>\n",
       "      <td>350.000000</td>\n",
       "      <td>350.000000</td>\n",
       "      <td>350.000000</td>\n",
       "      <td>346.000000</td>\n",
       "      <td>85.000000</td>\n",
       "    </tr>\n",
       "    <tr>\n",
       "      <th>mean</th>\n",
       "      <td>3302.648571</td>\n",
       "      <td>9.048571</td>\n",
       "      <td>9.877143</td>\n",
       "      <td>19.661850</td>\n",
       "      <td>28.858824</td>\n",
       "    </tr>\n",
       "    <tr>\n",
       "      <th>std</th>\n",
       "      <td>484.799317</td>\n",
       "      <td>0.710491</td>\n",
       "      <td>0.459591</td>\n",
       "      <td>12.921327</td>\n",
       "      <td>9.175735</td>\n",
       "    </tr>\n",
       "    <tr>\n",
       "      <th>min</th>\n",
       "      <td>910.000000</td>\n",
       "      <td>3.000000</td>\n",
       "      <td>5.000000</td>\n",
       "      <td>0.000000</td>\n",
       "      <td>17.000000</td>\n",
       "    </tr>\n",
       "    <tr>\n",
       "      <th>25%</th>\n",
       "      <td>3050.000000</td>\n",
       "      <td>9.000000</td>\n",
       "      <td>10.000000</td>\n",
       "      <td>10.000000</td>\n",
       "      <td>22.000000</td>\n",
       "    </tr>\n",
       "    <tr>\n",
       "      <th>50%</th>\n",
       "      <td>3330.000000</td>\n",
       "      <td>9.000000</td>\n",
       "      <td>10.000000</td>\n",
       "      <td>17.000000</td>\n",
       "      <td>28.000000</td>\n",
       "    </tr>\n",
       "    <tr>\n",
       "      <th>75%</th>\n",
       "      <td>3640.000000</td>\n",
       "      <td>9.000000</td>\n",
       "      <td>10.000000</td>\n",
       "      <td>26.750000</td>\n",
       "      <td>33.000000</td>\n",
       "    </tr>\n",
       "    <tr>\n",
       "      <th>max</th>\n",
       "      <td>4400.000000</td>\n",
       "      <td>10.000000</td>\n",
       "      <td>10.000000</td>\n",
       "      <td>71.000000</td>\n",
       "      <td>60.000000</td>\n",
       "    </tr>\n",
       "  </tbody>\n",
       "</table>\n",
       "</div>"
      ],
      "text/plain": [
       "              peso     apgar 1     apgar 5     F2Tptsd    F3Tptsd\n",
       "count   350.000000  350.000000  350.000000  346.000000  85.000000\n",
       "mean   3302.648571    9.048571    9.877143   19.661850  28.858824\n",
       "std     484.799317    0.710491    0.459591   12.921327   9.175735\n",
       "min     910.000000    3.000000    5.000000    0.000000  17.000000\n",
       "25%    3050.000000    9.000000   10.000000   10.000000  22.000000\n",
       "50%    3330.000000    9.000000   10.000000   17.000000  28.000000\n",
       "75%    3640.000000    9.000000   10.000000   26.750000  33.000000\n",
       "max    4400.000000   10.000000   10.000000   71.000000  60.000000"
      ]
     },
     "execution_count": 432,
     "metadata": {},
     "output_type": "execute_result"
    }
   ],
   "source": [
    "data17=data[['peso','apgar 1','apgar 5','F2Tptsd','F3Tptsd']]\n",
    "data17.dropna()\n",
    "data17.describe()"
   ]
  },
  {
   "cell_type": "code",
   "execution_count": 435,
   "metadata": {},
   "outputs": [
    {
     "data": {
      "text/html": [
       "<div>\n",
       "<style scoped>\n",
       "    .dataframe tbody tr th:only-of-type {\n",
       "        vertical-align: middle;\n",
       "    }\n",
       "\n",
       "    .dataframe tbody tr th {\n",
       "        vertical-align: top;\n",
       "    }\n",
       "\n",
       "    .dataframe thead th {\n",
       "        text-align: right;\n",
       "    }\n",
       "</style>\n",
       "<table border=\"1\" class=\"dataframe\">\n",
       "  <thead>\n",
       "    <tr style=\"text-align: right;\">\n",
       "      <th></th>\n",
       "      <th>peso</th>\n",
       "      <th>apgar 1</th>\n",
       "      <th>apgar 5</th>\n",
       "      <th>F2Tptsd</th>\n",
       "      <th>F3Tptsd</th>\n",
       "    </tr>\n",
       "  </thead>\n",
       "  <tbody>\n",
       "    <tr>\n",
       "      <th>peso</th>\n",
       "      <td>1.000</td>\n",
       "      <td>0.109</td>\n",
       "      <td>0.240</td>\n",
       "      <td>0.021</td>\n",
       "      <td>0.084</td>\n",
       "    </tr>\n",
       "    <tr>\n",
       "      <th>apgar 1</th>\n",
       "      <td>0.109</td>\n",
       "      <td>1.000</td>\n",
       "      <td>0.597</td>\n",
       "      <td>-0.088</td>\n",
       "      <td>-0.026</td>\n",
       "    </tr>\n",
       "    <tr>\n",
       "      <th>apgar 5</th>\n",
       "      <td>0.240</td>\n",
       "      <td>0.597</td>\n",
       "      <td>1.000</td>\n",
       "      <td>-0.146</td>\n",
       "      <td>0.032</td>\n",
       "    </tr>\n",
       "    <tr>\n",
       "      <th>F2Tptsd</th>\n",
       "      <td>0.021</td>\n",
       "      <td>-0.088</td>\n",
       "      <td>-0.146</td>\n",
       "      <td>1.000</td>\n",
       "      <td>0.369</td>\n",
       "    </tr>\n",
       "    <tr>\n",
       "      <th>F3Tptsd</th>\n",
       "      <td>0.084</td>\n",
       "      <td>-0.026</td>\n",
       "      <td>0.032</td>\n",
       "      <td>0.369</td>\n",
       "      <td>1.000</td>\n",
       "    </tr>\n",
       "  </tbody>\n",
       "</table>\n",
       "</div>"
      ],
      "text/plain": [
       "          peso  apgar 1  apgar 5  F2Tptsd  F3Tptsd\n",
       "peso     1.000    0.109    0.240    0.021    0.084\n",
       "apgar 1  0.109    1.000    0.597   -0.088   -0.026\n",
       "apgar 5  0.240    0.597    1.000   -0.146    0.032\n",
       "F2Tptsd  0.021   -0.088   -0.146    1.000    0.369\n",
       "F3Tptsd  0.084   -0.026    0.032    0.369    1.000"
      ]
     },
     "execution_count": 435,
     "metadata": {},
     "output_type": "execute_result"
    }
   ],
   "source": [
    "round(data17.corr(), 3)"
   ]
  },
  {
   "cell_type": "code",
   "execution_count": 660,
   "metadata": {},
   "outputs": [
    {
     "data": {
      "text/html": [
       "<div>\n",
       "<style scoped>\n",
       "    .dataframe tbody tr th:only-of-type {\n",
       "        vertical-align: middle;\n",
       "    }\n",
       "\n",
       "    .dataframe tbody tr th {\n",
       "        vertical-align: top;\n",
       "    }\n",
       "\n",
       "    .dataframe thead th {\n",
       "        text-align: right;\n",
       "    }\n",
       "</style>\n",
       "<table border=\"1\" class=\"dataframe\">\n",
       "  <thead>\n",
       "    <tr style=\"text-align: right;\">\n",
       "      <th></th>\n",
       "      <th>categoria</th>\n",
       "      <th>conteggio</th>\n",
       "    </tr>\n",
       "  </thead>\n",
       "  <tbody>\n",
       "    <tr>\n",
       "      <th>0</th>\n",
       "      <td>11</td>\n",
       "      <td>1</td>\n",
       "    </tr>\n",
       "    <tr>\n",
       "      <th>1</th>\n",
       "      <td>58</td>\n",
       "      <td>2</td>\n",
       "    </tr>\n",
       "    <tr>\n",
       "      <th>2</th>\n",
       "      <td>51</td>\n",
       "      <td>3</td>\n",
       "    </tr>\n",
       "    <tr>\n",
       "      <th>3</th>\n",
       "      <td>94</td>\n",
       "      <td>4</td>\n",
       "    </tr>\n",
       "    <tr>\n",
       "      <th>4</th>\n",
       "      <td>81</td>\n",
       "      <td>5</td>\n",
       "    </tr>\n",
       "    <tr>\n",
       "      <th>5</th>\n",
       "      <td>1</td>\n",
       "      <td>6</td>\n",
       "    </tr>\n",
       "  </tbody>\n",
       "</table>\n",
       "</div>"
      ],
      "text/plain": [
       "   categoria  conteggio\n",
       "0         11          1\n",
       "1         58          2\n",
       "2         51          3\n",
       "3         94          4\n",
       "4         81          5\n",
       "5          1          6"
      ]
     },
     "execution_count": 660,
     "metadata": {},
     "output_type": "execute_result"
    }
   ],
   "source": [
    "from pandas import DataFrame\n",
    "d=data.groupby('episio').size() \n",
    "l=[11,58,51,94,81,1]\n",
    "l2=[1,2,3,4,5,6]\n",
    "df={'categoria':l, 'conteggio':l2}\n",
    "df=DataFrame(df, columns= ['categoria','conteggio'])\n",
    "df       # conteggi per le categorie di episio"
   ]
  },
  {
   "cell_type": "markdown",
   "metadata": {},
   "source": [
    "Istogramma delle età"
   ]
  },
  {
   "cell_type": "code",
   "execution_count": 564,
   "metadata": {},
   "outputs": [
    {
     "data": {
      "image/png": "[encoded data removed]",
      "text/plain": [
       "<Figure size 576x432 with 1 Axes>"
      ]
     },
     "metadata": {
      "needs_background": "light"
     },
     "output_type": "display_data"
    }
   ],
   "source": [
    "import matplotlib.pyplot as plt\n",
    "import numpy as np\n",
    "\n",
    "fig = plt.figure(figsize=(8,6))\n",
    "ax = fig.gca()\n",
    "plt.hist(data['age'], ec='black')\n",
    "plt.xlabel('age')\n",
    "plt.ylabel('count')\n",
    "plt.ylim((0,110))\n",
    "plt.xlim((18,47))\n",
    "plt.title('Age groups')\n",
    "plt.grid(color='lightgrey', linestyle='-', linewidth=2)\n",
    "ax.set_yticks(np.arange(0, 120, 5))\n",
    "ax.set_axisbelow(True)\n",
    "ax.set_xticks(np.arange(15, 47, 1))\n",
    "plt.show()"
   ]
  },
  {
   "cell_type": "code",
   "execution_count": 548,
   "metadata": {},
   "outputs": [
    {
     "data": {
      "image/png": "[encoded data removed]",
      "text/plain": [
       "<Figure size 576x432 with 1 Axes>"
      ]
     },
     "metadata": {
      "needs_background": "light"
     },
     "output_type": "display_data"
    }
   ],
   "source": [
    "fig = plt.figure(figsize=(8,6))\n",
    "plt.scatter(data11['F2STAIS'], data11['F2STAIT'], c=data11['rischio'])\n",
    "plt.xlabel('F2STAIS')\n",
    "plt.ylabel('F2STAIT')     # in viola i basso rischio, in giallo gli alto rischio\n",
    "plt.grid(color='lightgrey', linestyle=':', linewidth=2)"
   ]
  },
  {
   "cell_type": "code",
   "execution_count": 550,
   "metadata": {},
   "outputs": [
    {
     "data": {
      "image/png": "[encoded data removed]",
      "text/plain": [
       "<Figure size 432x360 with 1 Axes>"
      ]
     },
     "metadata": {
      "needs_background": "light"
     },
     "output_type": "display_data"
    }
   ],
   "source": [
    "fig = plt.figure(figsize=(6,5))\n",
    "plt.scatter(data11['F2Tptsd'], data11['F2STAIT'], c=data11['rischio'], cmap='Wistia')\n",
    "plt.xlabel('F2Tptsd')\n",
    "plt.ylabel('F2STAIT')     \n",
    "plt.grid(color='lightgrey', linestyle=':', linewidth=2)\n",
    "# in giallo i basso rischio, in arancio gli alto rischio"
   ]
  },
  {
   "cell_type": "code",
   "execution_count": 551,
   "metadata": {},
   "outputs": [
    {
     "data": {
      "image/png": "[encoded data removed]",
      "text/plain": [
       "<Figure size 432x360 with 1 Axes>"
      ]
     },
     "metadata": {
      "needs_background": "light"
     },
     "output_type": "display_data"
    }
   ],
   "source": [
    "fig = plt.figure(figsize=(6,5))\n",
    "plt.scatter(data11['F2Tptsd'], data11['peso'], c=data11['rischio'], cmap='PiYG')\n",
    "plt.xlabel('F2Tptsd')\n",
    "plt.ylabel('peso')\n",
    "plt.grid(color='lightgrey', linestyle=':', linewidth=2)\n",
    "# in verde gli alto rischio, in viola i basso rischio"
   ]
  },
  {
   "cell_type": "code",
   "execution_count": 552,
   "metadata": {},
   "outputs": [
    {
     "data": {
      "image/png": "[encoded data removed]",
      "text/plain": [
       "<Figure size 432x360 with 1 Axes>"
      ]
     },
     "metadata": {
      "needs_background": "light"
     },
     "output_type": "display_data"
    }
   ],
   "source": [
    "fig = plt.figure(figsize=(6,5))\n",
    "plt.scatter(data11['age'], data11['peso'], c=data11['rischio'], cmap='winter')\n",
    "plt.xlabel('age')\n",
    "plt.ylabel('peso')\n",
    "plt.grid(color='lightgrey', linestyle=':', linewidth=2)\n",
    "# in verde-acqua gli alto rischio, in blu i basso rischio"
   ]
  },
  {
   "cell_type": "code",
   "execution_count": 554,
   "metadata": {},
   "outputs": [
    {
     "data": {
      "image/png": "[encoded data removed]",
      "text/plain": [
       "<Figure size 432x360 with 1 Axes>"
      ]
     },
     "metadata": {
      "needs_background": "light"
     },
     "output_type": "display_data"
    }
   ],
   "source": [
    "fig = plt.figure(figsize=(6,5))\n",
    "plt.scatter(data11['F2Tptsd'], data11['age'], c=data11['rischio'], cmap='spring')\n",
    "plt.ylabel('age')\n",
    "plt.xlabel('F2Tptsd')\n",
    "plt.grid(color='lightgrey', linestyle=':', linewidth=2)\n",
    "# in fucsia i basso rischio, in giallo gli alto rischio"
   ]
  },
  {
   "cell_type": "code",
   "execution_count": 565,
   "metadata": {},
   "outputs": [
    {
     "data": {
      "image/png": "[encoded data removed]",
      "text/plain": [
       "<Figure size 576x432 with 1 Axes>"
      ]
     },
     "metadata": {
      "needs_background": "light"
     },
     "output_type": "display_data"
    }
   ],
   "source": [
    "fig = plt.figure(figsize=(8,6))\n",
    "ax = fig.gca()\n",
    "plt.hist(data11['peso'], ec='black', color='red')\n",
    "plt.xlabel('peso')\n",
    "plt.ylabel('count')\n",
    "plt.ylim((0,75))\n",
    "plt.xlim((2000,4750))\n",
    "plt.title('Weight groups')\n",
    "plt.grid(color='lightgrey', linestyle='-', linewidth=2)\n",
    "ax.set_yticks(np.arange(0, 75, 5))\n",
    "ax.set_axisbelow(True)\n",
    "ax.set_xticks(np.arange(2000, 5000, 200))\n",
    "plt.show()"
   ]
  },
  {
   "cell_type": "markdown",
   "metadata": {},
   "source": [
    "Istogrammi per le variabili: f2fragemot, stais stait"
   ]
  },
  {
   "cell_type": "code",
   "execution_count": 669,
   "metadata": {},
   "outputs": [
    {
     "data": {
      "image/png": "[encoded data removed]",
      "text/plain": [
       "<Figure size 576x432 with 1 Axes>"
      ]
     },
     "metadata": {
      "needs_background": "light"
     },
     "output_type": "display_data"
    }
   ],
   "source": [
    "fig = plt.figure(figsize=(8,6))\n",
    "ax = fig.gca()\n",
    "plt.hist(data['F2fragemot'], ec='black', color='forestgreen')\n",
    "plt.xlabel('F2fragemot')\n",
    "plt.ylabel('count')\n",
    "plt.ylim((0,100))\n",
    "plt.xlim((30,190))\n",
    "plt.title('F2fragemot groups')\n",
    "plt.grid(color='lightgrey', linestyle='-', linewidth=2)\n",
    "ax.set_yticks(np.arange(0, 100, 5))\n",
    "ax.set_axisbelow(True)\n",
    "ax.set_xticks(np.arange(30, 190, 10))\n",
    "plt.show()"
   ]
  },
  {
   "cell_type": "code",
   "execution_count": 679,
   "metadata": {},
   "outputs": [
    {
     "data": {
      "image/png": "[encoded data removed]",
      "text/plain": [
       "<Figure size 576x432 with 1 Axes>"
      ]
     },
     "metadata": {
      "needs_background": "light"
     },
     "output_type": "display_data"
    }
   ],
   "source": [
    "fig = plt.figure(figsize=(8,6))\n",
    "ax = fig.gca()\n",
    "plt.hist(data['F2STAIS'], ec='black', color='peru')\n",
    "plt.xlabel('F2STAIS')\n",
    "plt.ylabel('count')\n",
    "plt.ylim((0,190))\n",
    "plt.xlim((10,90))\n",
    "plt.title('F2STAIS groups')\n",
    "plt.grid(color='lightgrey', linestyle='-', linewidth=2)\n",
    "ax.set_yticks(np.arange(0, 190, 10))\n",
    "ax.set_axisbelow(True)\n",
    "ax.set_xticks(np.arange(10, 90, 10))\n",
    "plt.show()"
   ]
  },
  {
   "cell_type": "code",
   "execution_count": 688,
   "metadata": {},
   "outputs": [
    {
     "data": {
      "image/png": "[encoded data removed]",
      "text/plain": [
       "<Figure size 576x432 with 1 Axes>"
      ]
     },
     "metadata": {
      "needs_background": "light"
     },
     "output_type": "display_data"
    }
   ],
   "source": [
    "fig = plt.figure(figsize=(8,6))\n",
    "ax = fig.gca()\n",
    "plt.hist(data['F2STAIT'], ec='black', color='skyblue')\n",
    "plt.xlabel('F2STAIT')\n",
    "plt.ylabel('count')\n",
    "plt.ylim((0,110))\n",
    "plt.xlim((20,70))\n",
    "plt.title('F2STAIT groups')\n",
    "plt.grid(color='lightgrey', linestyle='-', linewidth=2)\n",
    "ax.set_yticks(np.arange(0, 130, 10))\n",
    "ax.set_axisbelow(True)\n",
    "ax.set_xticks(np.arange(20, 70, 5))\n",
    "plt.show()"
   ]
  },
  {
   "cell_type": "code",
   "execution_count": 6,
   "metadata": {},
   "outputs": [
    {
     "data": {
      "text/html": [
       "<div>\n",
       "<style scoped>\n",
       "    .dataframe tbody tr th:only-of-type {\n",
       "        vertical-align: middle;\n",
       "    }\n",
       "\n",
       "    .dataframe tbody tr th {\n",
       "        vertical-align: top;\n",
       "    }\n",
       "\n",
       "    .dataframe thead th {\n",
       "        text-align: right;\n",
       "    }\n",
       "</style>\n",
       "<table border=\"1\" class=\"dataframe\">\n",
       "  <thead>\n",
       "    <tr style=\"text-align: right;\">\n",
       "      <th></th>\n",
       "      <th>F1Beck</th>\n",
       "      <th>F2Beck</th>\n",
       "      <th>F2Tptsd</th>\n",
       "      <th>F2PTSDpart</th>\n",
       "      <th>F2PTSDcomp</th>\n",
       "      <th>F3Tptsd</th>\n",
       "      <th>F3PTSDpart</th>\n",
       "    </tr>\n",
       "  </thead>\n",
       "  <tbody>\n",
       "    <tr>\n",
       "      <th>F1Beck</th>\n",
       "      <td>1.000</td>\n",
       "      <td>0.493</td>\n",
       "      <td>0.289</td>\n",
       "      <td>0.334</td>\n",
       "      <td>0.189</td>\n",
       "      <td>0.413</td>\n",
       "      <td>-0.057</td>\n",
       "    </tr>\n",
       "    <tr>\n",
       "      <th>F2Beck</th>\n",
       "      <td>0.493</td>\n",
       "      <td>1.000</td>\n",
       "      <td>0.413</td>\n",
       "      <td>0.168</td>\n",
       "      <td>0.293</td>\n",
       "      <td>0.281</td>\n",
       "      <td>0.254</td>\n",
       "    </tr>\n",
       "    <tr>\n",
       "      <th>F2Tptsd</th>\n",
       "      <td>0.289</td>\n",
       "      <td>0.413</td>\n",
       "      <td>1.000</td>\n",
       "      <td>0.435</td>\n",
       "      <td>0.507</td>\n",
       "      <td>0.369</td>\n",
       "      <td>0.215</td>\n",
       "    </tr>\n",
       "    <tr>\n",
       "      <th>F2PTSDpart</th>\n",
       "      <td>0.334</td>\n",
       "      <td>0.168</td>\n",
       "      <td>0.435</td>\n",
       "      <td>1.000</td>\n",
       "      <td>0.134</td>\n",
       "      <td>0.047</td>\n",
       "      <td>-0.014</td>\n",
       "    </tr>\n",
       "    <tr>\n",
       "      <th>F2PTSDcomp</th>\n",
       "      <td>0.189</td>\n",
       "      <td>0.293</td>\n",
       "      <td>0.507</td>\n",
       "      <td>0.134</td>\n",
       "      <td>1.000</td>\n",
       "      <td>0.135</td>\n",
       "      <td>0.079</td>\n",
       "    </tr>\n",
       "    <tr>\n",
       "      <th>F3Tptsd</th>\n",
       "      <td>0.413</td>\n",
       "      <td>0.281</td>\n",
       "      <td>0.369</td>\n",
       "      <td>0.047</td>\n",
       "      <td>0.135</td>\n",
       "      <td>1.000</td>\n",
       "      <td>0.610</td>\n",
       "    </tr>\n",
       "    <tr>\n",
       "      <th>F3PTSDpart</th>\n",
       "      <td>-0.057</td>\n",
       "      <td>0.254</td>\n",
       "      <td>0.215</td>\n",
       "      <td>-0.014</td>\n",
       "      <td>0.079</td>\n",
       "      <td>0.610</td>\n",
       "      <td>1.000</td>\n",
       "    </tr>\n",
       "  </tbody>\n",
       "</table>\n",
       "</div>"
      ],
      "text/plain": [
       "            F1Beck  F2Beck  F2Tptsd  F2PTSDpart  F2PTSDcomp  F3Tptsd  \\\n",
       "F1Beck       1.000   0.493    0.289       0.334       0.189    0.413   \n",
       "F2Beck       0.493   1.000    0.413       0.168       0.293    0.281   \n",
       "F2Tptsd      0.289   0.413    1.000       0.435       0.507    0.369   \n",
       "F2PTSDpart   0.334   0.168    0.435       1.000       0.134    0.047   \n",
       "F2PTSDcomp   0.189   0.293    0.507       0.134       1.000    0.135   \n",
       "F3Tptsd      0.413   0.281    0.369       0.047       0.135    1.000   \n",
       "F3PTSDpart  -0.057   0.254    0.215      -0.014       0.079    0.610   \n",
       "\n",
       "            F3PTSDpart  \n",
       "F1Beck          -0.057  \n",
       "F2Beck           0.254  \n",
       "F2Tptsd          0.215  \n",
       "F2PTSDpart      -0.014  \n",
       "F2PTSDcomp       0.079  \n",
       "F3Tptsd          0.610  \n",
       "F3PTSDpart       1.000  "
      ]
     },
     "execution_count": 6,
     "metadata": {},
     "output_type": "execute_result"
    }
   ],
   "source": [
    "ds=data[['F1Beck','F2Beck','F2Tptsd','F2PTSDpart','F2PTSDcomp','F3Tptsd',\n",
    "       'F3PTSDpart']]    # non esiste l'F3ptsdcomp\n",
    "round(ds.corr(),3)"
   ]
  },
  {
   "cell_type": "code",
   "execution_count": 26,
   "metadata": {},
   "outputs": [
    {
     "data": {
      "text/html": [
       "<div>\n",
       "<style scoped>\n",
       "    .dataframe tbody tr th:only-of-type {\n",
       "        vertical-align: middle;\n",
       "    }\n",
       "\n",
       "    .dataframe tbody tr th {\n",
       "        vertical-align: top;\n",
       "    }\n",
       "\n",
       "    .dataframe thead th {\n",
       "        text-align: right;\n",
       "    }\n",
       "</style>\n",
       "<table border=\"1\" class=\"dataframe\">\n",
       "  <thead>\n",
       "    <tr style=\"text-align: right;\">\n",
       "      <th></th>\n",
       "      <th>&gt;24h</th>\n",
       "      <th>para</th>\n",
       "      <th>pre-tc</th>\n",
       "      <th>grav</th>\n",
       "      <th>analgesia</th>\n",
       "      <th>parto</th>\n",
       "      <th>aborti</th>\n",
       "      <th>F2Tptsd</th>\n",
       "      <th>F2PTSDpart</th>\n",
       "      <th>F2PTSDcomp</th>\n",
       "    </tr>\n",
       "  </thead>\n",
       "  <tbody>\n",
       "    <tr>\n",
       "      <th>&gt;24h</th>\n",
       "      <td>1.000</td>\n",
       "      <td>-0.070</td>\n",
       "      <td>-0.012</td>\n",
       "      <td>-0.025</td>\n",
       "      <td>0.167</td>\n",
       "      <td>0.137</td>\n",
       "      <td>0.040</td>\n",
       "      <td>-0.036</td>\n",
       "      <td>0.015</td>\n",
       "      <td>0.045</td>\n",
       "    </tr>\n",
       "    <tr>\n",
       "      <th>para</th>\n",
       "      <td>-0.070</td>\n",
       "      <td>1.000</td>\n",
       "      <td>-0.152</td>\n",
       "      <td>0.694</td>\n",
       "      <td>-0.323</td>\n",
       "      <td>-0.222</td>\n",
       "      <td>0.044</td>\n",
       "      <td>-0.059</td>\n",
       "      <td>-0.048</td>\n",
       "      <td>-0.082</td>\n",
       "    </tr>\n",
       "    <tr>\n",
       "      <th>pre-tc</th>\n",
       "      <td>-0.012</td>\n",
       "      <td>-0.152</td>\n",
       "      <td>1.000</td>\n",
       "      <td>0.275</td>\n",
       "      <td>0.180</td>\n",
       "      <td>0.294</td>\n",
       "      <td>-0.019</td>\n",
       "      <td>-0.083</td>\n",
       "      <td>0.021</td>\n",
       "      <td>0.002</td>\n",
       "    </tr>\n",
       "    <tr>\n",
       "      <th>grav</th>\n",
       "      <td>-0.025</td>\n",
       "      <td>0.694</td>\n",
       "      <td>0.275</td>\n",
       "      <td>1.000</td>\n",
       "      <td>-0.150</td>\n",
       "      <td>-0.027</td>\n",
       "      <td>0.436</td>\n",
       "      <td>-0.112</td>\n",
       "      <td>0.011</td>\n",
       "      <td>-0.059</td>\n",
       "    </tr>\n",
       "    <tr>\n",
       "      <th>analgesia</th>\n",
       "      <td>0.167</td>\n",
       "      <td>-0.323</td>\n",
       "      <td>0.180</td>\n",
       "      <td>-0.150</td>\n",
       "      <td>1.000</td>\n",
       "      <td>0.451</td>\n",
       "      <td>0.036</td>\n",
       "      <td>0.083</td>\n",
       "      <td>0.060</td>\n",
       "      <td>0.059</td>\n",
       "    </tr>\n",
       "    <tr>\n",
       "      <th>parto</th>\n",
       "      <td>0.137</td>\n",
       "      <td>-0.222</td>\n",
       "      <td>0.294</td>\n",
       "      <td>-0.027</td>\n",
       "      <td>0.451</td>\n",
       "      <td>1.000</td>\n",
       "      <td>0.006</td>\n",
       "      <td>0.053</td>\n",
       "      <td>0.081</td>\n",
       "      <td>0.061</td>\n",
       "    </tr>\n",
       "    <tr>\n",
       "      <th>aborti</th>\n",
       "      <td>0.040</td>\n",
       "      <td>0.044</td>\n",
       "      <td>-0.019</td>\n",
       "      <td>0.436</td>\n",
       "      <td>0.036</td>\n",
       "      <td>0.006</td>\n",
       "      <td>1.000</td>\n",
       "      <td>-0.098</td>\n",
       "      <td>-0.043</td>\n",
       "      <td>-0.040</td>\n",
       "    </tr>\n",
       "    <tr>\n",
       "      <th>F2Tptsd</th>\n",
       "      <td>-0.036</td>\n",
       "      <td>-0.059</td>\n",
       "      <td>-0.083</td>\n",
       "      <td>-0.112</td>\n",
       "      <td>0.083</td>\n",
       "      <td>0.053</td>\n",
       "      <td>-0.098</td>\n",
       "      <td>1.000</td>\n",
       "      <td>0.435</td>\n",
       "      <td>0.507</td>\n",
       "    </tr>\n",
       "    <tr>\n",
       "      <th>F2PTSDpart</th>\n",
       "      <td>0.015</td>\n",
       "      <td>-0.048</td>\n",
       "      <td>0.021</td>\n",
       "      <td>0.011</td>\n",
       "      <td>0.060</td>\n",
       "      <td>0.081</td>\n",
       "      <td>-0.043</td>\n",
       "      <td>0.435</td>\n",
       "      <td>1.000</td>\n",
       "      <td>0.134</td>\n",
       "    </tr>\n",
       "    <tr>\n",
       "      <th>F2PTSDcomp</th>\n",
       "      <td>0.045</td>\n",
       "      <td>-0.082</td>\n",
       "      <td>0.002</td>\n",
       "      <td>-0.059</td>\n",
       "      <td>0.059</td>\n",
       "      <td>0.061</td>\n",
       "      <td>-0.040</td>\n",
       "      <td>0.507</td>\n",
       "      <td>0.134</td>\n",
       "      <td>1.000</td>\n",
       "    </tr>\n",
       "  </tbody>\n",
       "</table>\n",
       "</div>"
      ],
      "text/plain": [
       "             >24h   para  pre-tc   grav  analgesia  parto  aborti  F2Tptsd  \\\n",
       ">24h        1.000 -0.070  -0.012 -0.025      0.167  0.137   0.040   -0.036   \n",
       "para       -0.070  1.000  -0.152  0.694     -0.323 -0.222   0.044   -0.059   \n",
       "pre-tc     -0.012 -0.152   1.000  0.275      0.180  0.294  -0.019   -0.083   \n",
       "grav       -0.025  0.694   0.275  1.000     -0.150 -0.027   0.436   -0.112   \n",
       "analgesia   0.167 -0.323   0.180 -0.150      1.000  0.451   0.036    0.083   \n",
       "parto       0.137 -0.222   0.294 -0.027      0.451  1.000   0.006    0.053   \n",
       "aborti      0.040  0.044  -0.019  0.436      0.036  0.006   1.000   -0.098   \n",
       "F2Tptsd    -0.036 -0.059  -0.083 -0.112      0.083  0.053  -0.098    1.000   \n",
       "F2PTSDpart  0.015 -0.048   0.021  0.011      0.060  0.081  -0.043    0.435   \n",
       "F2PTSDcomp  0.045 -0.082   0.002 -0.059      0.059  0.061  -0.040    0.507   \n",
       "\n",
       "            F2PTSDpart  F2PTSDcomp  \n",
       ">24h             0.015       0.045  \n",
       "para            -0.048      -0.082  \n",
       "pre-tc           0.021       0.002  \n",
       "grav             0.011      -0.059  \n",
       "analgesia        0.060       0.059  \n",
       "parto            0.081       0.061  \n",
       "aborti          -0.043      -0.040  \n",
       "F2Tptsd          0.435       0.507  \n",
       "F2PTSDpart       1.000       0.134  \n",
       "F2PTSDcomp       0.134       1.000  "
      ]
     },
     "execution_count": 26,
     "metadata": {},
     "output_type": "execute_result"
    }
   ],
   "source": [
    "ds2=data[['>24h','para','pre-tc','grav','analgesia','parto','aborti','F2Tptsd',\n",
    "        'F2PTSDpart','F2PTSDcomp']]\n",
    "round(ds2.corr(),3)"
   ]
  },
  {
   "cell_type": "code",
   "execution_count": null,
   "metadata": {},
   "outputs": [],
   "source": []
  }
 ],
 "metadata": {
  "kernelspec": {
   "display_name": "Python 3",
   "language": "python",
   "name": "python3"
  },
  "language_info": {
   "codemirror_mode": {
    "name": "ipython",
    "version": 3
   },
   "file_extension": ".py",
   "mimetype": "text/x-python",
   "name": "python",
   "nbconvert_exporter": "python",
   "pygments_lexer": "ipython3",
   "version": "3.7.1"
  }
 },
 "nbformat": 4,
 "nbformat_minor": 2
}
